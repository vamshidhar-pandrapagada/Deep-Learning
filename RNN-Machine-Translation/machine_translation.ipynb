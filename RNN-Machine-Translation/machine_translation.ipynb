{
 "cells": [
  {
   "cell_type": "markdown",
   "metadata": {
    "collapsed": true
   },
   "source": [
    "# Artificial Intelligence Nanodegree\n",
    "## Machine Translation Project\n",
    "In this notebook, sections that end with **'(IMPLEMENTATION)'** in the header indicate that the following blocks of code will require additional functionality which you must provide. Please be sure to read the instructions carefully!\n",
    "\n",
    "## Introduction\n",
    "In this notebook, you will build a deep neural network that functions as part of an end-to-end machine translation pipeline. Your completed pipeline will accept English text as input and return the French translation.\n",
    "\n",
    "- **Preprocess** - You'll convert text to sequence of integers.\n",
    "- **Models** Create models which accepts a sequence of integers as input and returns a probability distribution over possible translations. After learning about the basic types of neural networks that are often used for machine translation, you will engage in your own investigations, to design your own model!\n",
    "- **Prediction** Run the model on English text."
   ]
  },
  {
   "cell_type": "code",
   "execution_count": 169,
   "metadata": {},
   "outputs": [
    {
     "name": "stdout",
     "output_type": "stream",
     "text": [
      "The autoreload extension is already loaded. To reload it, use:\n",
      "  %reload_ext autoreload\n"
     ]
    }
   ],
   "source": [
    "%load_ext autoreload\n",
    "%aimport helper, tests\n",
    "%autoreload 1"
   ]
  },
  {
   "cell_type": "code",
   "execution_count": 170,
   "metadata": {},
   "outputs": [],
   "source": [
    "import collections\n",
    "import random\n",
    "\n",
    "import helper\n",
    "import numpy as np\n",
    "import project_tests as tests\n",
    "\n",
    "from keras.preprocessing.text import Tokenizer\n",
    "from keras.preprocessing.sequence import pad_sequences\n",
    "from keras.models import Model, Sequential\n",
    "from keras.layers import LSTM, GRU, Input, Dense, TimeDistributed, Activation, RepeatVector, Bidirectional\n",
    "from keras.layers.embeddings import Embedding\n",
    "from keras.optimizers import Adam\n",
    "from keras.losses import sparse_categorical_crossentropy\n",
    "\n",
    "from matplotlib import pyplot as plt"
   ]
  },
  {
   "cell_type": "markdown",
   "metadata": {},
   "source": [
    "### Verify access to the GPU\n",
    "The following test applies only if you expect to be using a GPU, e.g., while running in a Udacity Workspace or using an AWS instance with GPU support. Run the next cell, and verify that the device_type is \"GPU\".\n",
    "- If the device is not GPU & you are running from a Udacity Workspace, then save your workspace with the icon at the top, then click \"enable\" at the bottom of the workspace.\n",
    "- If the device is not GPU & you are running from an AWS instance, then refer to the cloud computing instructions in the classroom to verify your setup steps."
   ]
  },
  {
   "cell_type": "code",
   "execution_count": 171,
   "metadata": {},
   "outputs": [
    {
     "name": "stdout",
     "output_type": "stream",
     "text": [
      "[name: \"/device:CPU:0\"\n",
      "device_type: \"CPU\"\n",
      "memory_limit: 268435456\n",
      "locality {\n",
      "}\n",
      "incarnation: 1883071782028851573\n",
      ", name: \"/device:GPU:0\"\n",
      "device_type: \"GPU\"\n",
      "memory_limit: 6672343368\n",
      "locality {\n",
      "  bus_id: 1\n",
      "  links {\n",
      "  }\n",
      "}\n",
      "incarnation: 10996359642526769316\n",
      "physical_device_desc: \"device: 0, name: GeForce GTX 1080, pci bus id: 0000:01:00.0, compute capability: 6.1\"\n",
      "]\n"
     ]
    }
   ],
   "source": [
    "from tensorflow.python.client import device_lib\n",
    "print(device_lib.list_local_devices())"
   ]
  },
  {
   "cell_type": "markdown",
   "metadata": {},
   "source": [
    "## Dataset\n",
    "We begin by investigating the dataset that will be used to train and evaluate your pipeline.  The most common datasets used for machine translation are from [WMT](http://www.statmt.org/).  However, that will take a long time to train a neural network on.  We'll be using a dataset we created for this project that contains a small vocabulary.  You'll be able to train your model in a reasonable time with this dataset.\n",
    "### Load Data\n",
    "The data is located in `data/small_vocab_en` and `data/small_vocab_fr`. The `small_vocab_en` file contains English sentences with their French translations in the `small_vocab_fr` file. Load the English and French data from these files from running the cell below."
   ]
  },
  {
   "cell_type": "code",
   "execution_count": 172,
   "metadata": {},
   "outputs": [
    {
     "name": "stdout",
     "output_type": "stream",
     "text": [
      "Dataset Loaded\n"
     ]
    }
   ],
   "source": [
    "# Load English data\n",
    "english_sentences = helper.load_data('data/small_vocab_en')\n",
    "# Load French data\n",
    "french_sentences = helper.load_data('data/small_vocab_fr')\n",
    "\n",
    "print('Dataset Loaded')"
   ]
  },
  {
   "cell_type": "markdown",
   "metadata": {},
   "source": [
    "### Files\n",
    "Each line in `small_vocab_en` contains an English sentence with the respective translation in each line of `small_vocab_fr`.  View the first two lines from each file."
   ]
  },
  {
   "cell_type": "code",
   "execution_count": 173,
   "metadata": {},
   "outputs": [
    {
     "name": "stdout",
     "output_type": "stream",
     "text": [
      "small_vocab_en Line 1:  new jersey is sometimes quiet during autumn , and it is snowy in april .\n",
      "small_vocab_fr Line 1:  new jersey est parfois calme pendant l' automne , et il est neigeux en avril .\n",
      "small_vocab_en Line 2:  the united states is usually chilly during july , and it is usually freezing in november .\n",
      "small_vocab_fr Line 2:  les Ã©tats-unis est gÃ©nÃ©ralement froid en juillet , et il gÃ¨le habituellement en novembre .\n"
     ]
    }
   ],
   "source": [
    "for sample_i in range(2):\n",
    "    print('small_vocab_en Line {}:  {}'.format(sample_i + 1, english_sentences[sample_i]))\n",
    "    print('small_vocab_fr Line {}:  {}'.format(sample_i + 1, french_sentences[sample_i]))"
   ]
  },
  {
   "cell_type": "markdown",
   "metadata": {},
   "source": [
    "From looking at the sentences, you can see they have been preprocessed already.  The puncuations have been delimited using spaces. All the text have been converted to lowercase.  This should save you some time, but the text requires more preprocessing.\n",
    "### Vocabulary\n",
    "The complexity of the problem is determined by the complexity of the vocabulary.  A more complex vocabulary is a more complex problem.  Let's look at the complexity of the dataset we'll be working with."
   ]
  },
  {
   "cell_type": "code",
   "execution_count": 174,
   "metadata": {},
   "outputs": [
    {
     "name": "stdout",
     "output_type": "stream",
     "text": [
      "1823250 English words.\n",
      "227 unique English words.\n",
      "10 Most common words in the English dataset:\n",
      "\"is\" \",\" \".\" \"in\" \"it\" \"during\" \"the\" \"but\" \"and\" \"sometimes\"\n",
      "\n",
      "1961295 French words.\n",
      "355 unique French words.\n",
      "10 Most common words in the French dataset:\n",
      "\"est\" \".\" \",\" \"en\" \"il\" \"les\" \"mais\" \"et\" \"la\" \"parfois\"\n"
     ]
    }
   ],
   "source": [
    "english_words_counter = collections.Counter([word for sentence in english_sentences for word in sentence.split()])\n",
    "french_words_counter = collections.Counter([word for sentence in french_sentences for word in sentence.split()])\n",
    "\n",
    "print('{} English words.'.format(len([word for sentence in english_sentences for word in sentence.split()])))\n",
    "print('{} unique English words.'.format(len(english_words_counter)))\n",
    "print('10 Most common words in the English dataset:')\n",
    "print('\"' + '\" \"'.join(list(zip(*english_words_counter.most_common(10)))[0]) + '\"')\n",
    "print()\n",
    "print('{} French words.'.format(len([word for sentence in french_sentences for word in sentence.split()])))\n",
    "print('{} unique French words.'.format(len(french_words_counter)))\n",
    "print('10 Most common words in the French dataset:')\n",
    "print('\"' + '\" \"'.join(list(zip(*french_words_counter.most_common(10)))[0]) + '\"')"
   ]
  },
  {
   "cell_type": "markdown",
   "metadata": {},
   "source": [
    "For comparison, _Alice's Adventures in Wonderland_ contains 2,766 unique words of a total of 15,500 words.\n",
    "## Preprocess\n",
    "For this project, you won't use text data as input to your model. Instead, you'll convert the text into sequences of integers using the following preprocess methods:\n",
    "1. Tokenize the words into ids\n",
    "2. Add padding to make all the sequences the same length.\n",
    "\n",
    "Time to start preprocessing the data...\n",
    "### Tokenize (IMPLEMENTATION)\n",
    "For a neural network to predict on text data, it first has to be turned into data it can understand. Text data like \"dog\" is a sequence of ASCII character encodings.  Since a neural network is a series of multiplication and addition operations, the input data needs to be number(s).\n",
    "\n",
    "We can turn each character into a number or each word into a number.  These are called character and word ids, respectively.  Character ids are used for character level models that generate text predictions for each character.  A word level model uses word ids that generate text predictions for each word.  Word level models tend to learn better, since they are lower in complexity, so we'll use those.\n",
    "\n",
    "Turn each sentence into a sequence of words ids using Keras's [`Tokenizer`](https://keras.io/preprocessing/text/#tokenizer) function. Use this function to tokenize `english_sentences` and `french_sentences` in the cell below.\n",
    "\n",
    "Running the cell will run `tokenize` on sample data and show output for debugging."
   ]
  },
  {
   "cell_type": "code",
   "execution_count": 175,
   "metadata": {},
   "outputs": [
    {
     "name": "stdout",
     "output_type": "stream",
     "text": [
      "{'the': 1, 'quick': 2, 'a': 3, 'brown': 4, 'fox': 5, 'jumps': 6, 'over': 7, 'lazy': 8, 'dog': 9, 'by': 10, 'jove': 11, 'my': 12, 'study': 13, 'of': 14, 'lexicography': 15, 'won': 16, 'prize': 17, 'this': 18, 'is': 19, 'short': 20, 'sentence': 21}\n",
      "\n",
      "Sequence 1 in x\n",
      "  Input:  The quick brown fox jumps over the lazy dog .\n",
      "  Output: [1, 2, 4, 5, 6, 7, 1, 8, 9]\n",
      "Sequence 2 in x\n",
      "  Input:  By Jove , my quick study of lexicography won a prize .\n",
      "  Output: [10, 11, 12, 2, 13, 14, 15, 16, 3, 17]\n",
      "Sequence 3 in x\n",
      "  Input:  This is a short sentence .\n",
      "  Output: [18, 19, 3, 20, 21]\n"
     ]
    }
   ],
   "source": [
    "def tokenize(x):\n",
    "    \"\"\"\n",
    "    Tokenize x\n",
    "    :param x: List of sentences/strings to be tokenized\n",
    "    :return: Tuple of (tokenized x data, tokenizer used to tokenize x)\n",
    "    \"\"\"\n",
    "    input_tokenizer = Tokenizer()\n",
    "    input_tokenizer.fit_on_texts(x)\n",
    "    \n",
    "    return  input_tokenizer.texts_to_sequences(x), input_tokenizer\n",
    "tests.test_tokenize(tokenize)\n",
    "\n",
    "# Tokenize Example output\n",
    "text_sentences = [\n",
    "    'The quick brown fox jumps over the lazy dog .',\n",
    "    'By Jove , my quick study of lexicography won a prize .',\n",
    "    'This is a short sentence .']\n",
    "text_tokenized, text_tokenizer = tokenize(text_sentences)\n",
    "print(text_tokenizer.word_index)\n",
    "print()\n",
    "for sample_i, (sent, token_sent) in enumerate(zip(text_sentences, text_tokenized)):\n",
    "    print('Sequence {} in x'.format(sample_i + 1))\n",
    "    print('  Input:  {}'.format(sent))\n",
    "    print('  Output: {}'.format(token_sent))"
   ]
  },
  {
   "cell_type": "markdown",
   "metadata": {},
   "source": [
    "### Padding (IMPLEMENTATION)\n",
    "When batching the sequence of word ids together, each sequence needs to be the same length.  Since sentences are dynamic in length, we can add padding to the end of the sequences to make them the same length.\n",
    "\n",
    "Make sure all the English sequences have the same length and all the French sequences have the same length by adding padding to the **end** of each sequence using Keras's [`pad_sequences`](https://keras.io/preprocessing/sequence/#pad_sequences) function."
   ]
  },
  {
   "cell_type": "code",
   "execution_count": 176,
   "metadata": {},
   "outputs": [
    {
     "name": "stdout",
     "output_type": "stream",
     "text": [
      "Sequence 1 in x\n",
      "  Input:  [1 2 4 5 6 7 1 8 9]\n",
      "  Output: [1 2 4 5 6 7 1 8 9 0]\n",
      "Sequence 2 in x\n",
      "  Input:  [10 11 12  2 13 14 15 16  3 17]\n",
      "  Output: [10 11 12  2 13 14 15 16  3 17]\n",
      "Sequence 3 in x\n",
      "  Input:  [18 19  3 20 21]\n",
      "  Output: [18 19  3 20 21  0  0  0  0  0]\n"
     ]
    }
   ],
   "source": [
    "def pad(x, length=None):\n",
    "    \"\"\"\n",
    "    Pad x\n",
    "    :param x: List of sequences.\n",
    "    :param length: Length to pad the sequence to.  If None, use length of longest sequence in x.\n",
    "    :return: Padded numpy array of sequences\n",
    "    \"\"\"\n",
    "    if length is None:\n",
    "        length = max(list(map(len, x)))\n",
    "            \n",
    "    return pad_sequences(x, maxlen = length, padding = 'post')\n",
    "tests.test_pad(pad)\n",
    "\n",
    "# Pad Tokenized output\n",
    "test_pad = pad(text_tokenized)\n",
    "for sample_i, (token_sent, pad_sent) in enumerate(zip(text_tokenized, test_pad)):\n",
    "    print('Sequence {} in x'.format(sample_i + 1))\n",
    "    print('  Input:  {}'.format(np.array(token_sent)))\n",
    "    print('  Output: {}'.format(pad_sent))"
   ]
  },
  {
   "cell_type": "markdown",
   "metadata": {},
   "source": [
    "### Preprocess Pipeline\n",
    "Your focus for this project is to build neural network architecture, so we won't ask you to create a preprocess pipeline.  Instead, we've provided you with the implementation of the `preprocess` function."
   ]
  },
  {
   "cell_type": "code",
   "execution_count": 177,
   "metadata": {},
   "outputs": [
    {
     "name": "stdout",
     "output_type": "stream",
     "text": [
      "(137861, 15)\n",
      "(137861, 21, 1)\n",
      "Data Preprocessed\n",
      "Max English sentence length: 15\n",
      "Max French sentence length: 21\n",
      "English vocabulary size: 199\n",
      "French vocabulary size: 345\n"
     ]
    }
   ],
   "source": [
    "def preprocess(x, y):\n",
    "    \"\"\"\n",
    "    Preprocess x and y\n",
    "    :param x: Feature List of sentences\n",
    "    :param y: Label List of sentences\n",
    "    :return: Tuple of (Preprocessed x, Preprocessed y, x tokenizer, y tokenizer)\n",
    "    \"\"\"\n",
    "    preprocess_x, x_tk = tokenize(x)\n",
    "    preprocess_y, y_tk = tokenize(y)\n",
    "\n",
    "    preprocess_x = pad(preprocess_x)\n",
    "    preprocess_y = pad(preprocess_y)\n",
    "\n",
    "    # Keras's sparse_categorical_crossentropy function requires the labels to be in 3 dimensions\n",
    "    preprocess_y = preprocess_y.reshape(*preprocess_y.shape, 1)\n",
    "\n",
    "    return preprocess_x, preprocess_y, x_tk, y_tk\n",
    "\n",
    "preproc_english_sentences, preproc_french_sentences, english_tokenizer, french_tokenizer =\\\n",
    "    preprocess(english_sentences, french_sentences)\n",
    "    \n",
    "print(preproc_english_sentences.shape)\n",
    "print(preproc_french_sentences.shape)\n",
    "max_english_sequence_length = preproc_english_sentences.shape[1]\n",
    "max_french_sequence_length = preproc_french_sentences.shape[1]\n",
    "english_vocab_size = len(english_tokenizer.word_index)\n",
    "french_vocab_size = len(french_tokenizer.word_index)\n",
    "\n",
    "print('Data Preprocessed')\n",
    "print(\"Max English sentence length:\", max_english_sequence_length)\n",
    "print(\"Max French sentence length:\", max_french_sequence_length)\n",
    "print(\"English vocabulary size:\", english_vocab_size)\n",
    "print(\"French vocabulary size:\", french_vocab_size)"
   ]
  },
  {
   "cell_type": "markdown",
   "metadata": {},
   "source": [
    "## Models\n",
    "In this section, you will experiment with various neural network architectures.\n",
    "You will begin by training four relatively simple architectures.\n",
    "- Model 1 is a simple RNN\n",
    "- Model 2 is a RNN with Embedding\n",
    "- Model 3 is a Bidirectional RNN\n",
    "- Model 4 is an optional Encoder-Decoder RNN\n",
    "\n",
    "After experimenting with the four simple architectures, you will construct a deeper architecture that is designed to outperform all four models.\n",
    "### Ids Back to Text\n",
    "The neural network will be translating the input to words ids, which isn't the final form we want.  We want the French translation.  The function `logits_to_text` will bridge the gab between the logits from the neural network to the French translation.  You'll be using this function to better understand the output of the neural network."
   ]
  },
  {
   "cell_type": "code",
   "execution_count": 178,
   "metadata": {},
   "outputs": [
    {
     "name": "stdout",
     "output_type": "stream",
     "text": [
      "`logits_to_text` function loaded.\n"
     ]
    }
   ],
   "source": [
    "def logits_to_text(logits, tokenizer):\n",
    "    \"\"\"\n",
    "    Turn logits from a neural network into text using the tokenizer\n",
    "    :param logits: Logits from a neural network\n",
    "    :param tokenizer: Keras Tokenizer fit on the labels\n",
    "    :return: String that represents the text of the logits\n",
    "    \"\"\"\n",
    "    index_to_words = {id: word for word, id in tokenizer.word_index.items()}\n",
    "    index_to_words[0] = '<PAD>'\n",
    "\n",
    "    return ' '.join([index_to_words[prediction] for prediction in np.argmax(logits, 1)])\n",
    "\n",
    "print('`logits_to_text` function loaded.')"
   ]
  },
  {
   "cell_type": "markdown",
   "metadata": {},
   "source": [
    "### Model 1: RNN (IMPLEMENTATION)\n",
    "![RNN](images/rnn.png)\n",
    "A basic RNN model is a good baseline for sequence data.  In this model, you'll build a RNN that translates English to French."
   ]
  },
  {
   "cell_type": "code",
   "execution_count": 179,
   "metadata": {},
   "outputs": [
    {
     "data": {
      "text/plain": [
       "'new jersey is sometimes quiet during autumn , and it is snowy in april .'"
      ]
     },
     "execution_count": 179,
     "metadata": {},
     "output_type": "execute_result"
    }
   ],
   "source": [
    "english_sentences[0]"
   ]
  },
  {
   "cell_type": "markdown",
   "metadata": {},
   "source": [
    "## Define a function to plot Model metrics"
   ]
  },
  {
   "cell_type": "code",
   "execution_count": 180,
   "metadata": {},
   "outputs": [],
   "source": [
    "def plot_metrics(history):\n",
    "    plt.plot(history.history['loss'], label = 'loss')\n",
    "    plt.plot(history.history['val_loss'], label = 'loss')\n",
    "    plt.legend()\n",
    "    plt.show()\n",
    "    \n",
    "    plt.plot(history.history['acc'], label = 'accuracy')\n",
    "    plt.plot(history.history['val_acc'], label = 'val_accuracy')\n",
    "    plt.legend()\n",
    "    plt.show()   "
   ]
  },
  {
   "cell_type": "code",
   "execution_count": 181,
   "metadata": {},
   "outputs": [
    {
     "name": "stdout",
     "output_type": "stream",
     "text": [
      "_________________________________________________________________\n",
      "Layer (type)                 Output Shape              Param #   \n",
      "=================================================================\n",
      "input_37 (InputLayer)        (None, 21, 1)             0         \n",
      "_________________________________________________________________\n",
      "gru_60 (GRU)                 (None, 21, 64)            12672     \n",
      "_________________________________________________________________\n",
      "time_distributed_33 (TimeDis (None, 21, 345)           22425     \n",
      "_________________________________________________________________\n",
      "activation_13 (Activation)   (None, 21, 345)           0         \n",
      "=================================================================\n",
      "Total params: 35,097\n",
      "Trainable params: 35,097\n",
      "Non-trainable params: 0\n",
      "_________________________________________________________________\n",
      "Train on 110288 samples, validate on 27573 samples\n",
      "Epoch 1/20\n",
      "110288/110288 [==============================] - 8s 70us/step - loss: 3.5276 - acc: 0.4206 - val_loss: nan - val_acc: 0.4591\n",
      "Epoch 2/20\n",
      "110288/110288 [==============================] - 4s 39us/step - loss: 2.4541 - acc: 0.4711 - val_loss: nan - val_acc: 0.4861\n",
      "Epoch 3/20\n",
      "110288/110288 [==============================] - 4s 39us/step - loss: 2.2015 - acc: 0.5032 - val_loss: nan - val_acc: 0.5313\n",
      "Epoch 4/20\n",
      "110288/110288 [==============================] - 4s 39us/step - loss: 1.9379 - acc: 0.5548 - val_loss: nan - val_acc: 0.5687\n",
      "Epoch 5/20\n",
      "110288/110288 [==============================] - 4s 39us/step - loss: 1.7581 - acc: 0.5739 - val_loss: nan - val_acc: 0.5771\n",
      "Epoch 6/20\n",
      "110288/110288 [==============================] - 4s 39us/step - loss: 1.6612 - acc: 0.5820 - val_loss: nan - val_acc: 0.5857\n",
      "Epoch 7/20\n",
      "110288/110288 [==============================] - 4s 39us/step - loss: 1.5924 - acc: 0.5921 - val_loss: nan - val_acc: 0.6029\n",
      "Epoch 8/20\n",
      "110288/110288 [==============================] - 4s 39us/step - loss: 1.5366 - acc: 0.6022 - val_loss: nan - val_acc: 0.6064\n",
      "Epoch 9/20\n",
      "110288/110288 [==============================] - 4s 39us/step - loss: 1.4897 - acc: 0.6093 - val_loss: nan - val_acc: 0.6109\n",
      "Epoch 10/20\n",
      "110288/110288 [==============================] - 4s 39us/step - loss: 1.4488 - acc: 0.6126 - val_loss: nan - val_acc: 0.6158\n",
      "Epoch 11/20\n",
      "110288/110288 [==============================] - 4s 39us/step - loss: 1.4121 - acc: 0.6186 - val_loss: nan - val_acc: 0.6203\n",
      "Epoch 12/20\n",
      "110288/110288 [==============================] - 4s 39us/step - loss: 1.3785 - acc: 0.6237 - val_loss: nan - val_acc: 0.6272\n",
      "Epoch 13/20\n",
      "110288/110288 [==============================] - 4s 39us/step - loss: 1.3490 - acc: 0.6294 - val_loss: nan - val_acc: 0.6302\n",
      "Epoch 14/20\n",
      "110288/110288 [==============================] - 4s 39us/step - loss: 1.3229 - acc: 0.6330 - val_loss: nan - val_acc: 0.6361\n",
      "Epoch 15/20\n",
      "110288/110288 [==============================] - 4s 39us/step - loss: 1.2997 - acc: 0.6369 - val_loss: nan - val_acc: 0.6376\n",
      "Epoch 16/20\n",
      "110288/110288 [==============================] - 4s 39us/step - loss: 1.2789 - acc: 0.6397 - val_loss: nan - val_acc: 0.6410\n",
      "Epoch 17/20\n",
      "110288/110288 [==============================] - 4s 39us/step - loss: 1.2594 - acc: 0.6437 - val_loss: nan - val_acc: 0.6437\n",
      "Epoch 18/20\n",
      "110288/110288 [==============================] - 4s 39us/step - loss: 1.2411 - acc: 0.6467 - val_loss: nan - val_acc: 0.6483\n",
      "Epoch 19/20\n",
      "110288/110288 [==============================] - 4s 39us/step - loss: 1.2242 - acc: 0.6487 - val_loss: nan - val_acc: 0.6503\n",
      "Epoch 20/20\n",
      "110288/110288 [==============================] - 4s 39us/step - loss: 1.2082 - acc: 0.6504 - val_loss: nan - val_acc: 0.6548\n"
     ]
    },
    {
     "data": {
      "image/png": "[encoded data removed]",
      "text/plain": [
       "<Figure size 432x288 with 1 Axes>"
      ]
     },
     "metadata": {
      "needs_background": "light"
     },
     "output_type": "display_data"
    },
    {
     "data": {
      "image/png": "[encoded data removed]",
      "text/plain": [
       "<Figure size 432x288 with 1 Axes>"
      ]
     },
     "metadata": {
      "needs_background": "light"
     },
     "output_type": "display_data"
    }
   ],
   "source": [
    "def simple_model(input_shape, output_sequence_length, english_vocab_size, french_vocab_size):\n",
    "    \"\"\"\n",
    "    Build and train a basic RNN on x and y\n",
    "    :param input_shape: Tuple of input shape\n",
    "    :param output_sequence_length: Length of output sequence\n",
    "    :param english_vocab_size: Number of unique English words in the dataset\n",
    "    :param french_vocab_size: Number of unique French words in the dataset\n",
    "    :return: Keras model built, but not trained\n",
    "    \"\"\"\n",
    "    learning_rate = 1e-3\n",
    "\n",
    "    input_seq = Input(input_shape[1:])\n",
    "    rnn = GRU(64, return_sequences=True)\n",
    "    input_to_rnn = rnn(input_seq)\n",
    "    logits = TimeDistributed(Dense(french_vocab_size))(input_to_rnn)\n",
    "\n",
    "    model = Model(input_seq, Activation('softmax')(logits))\n",
    "    model.compile(loss=sparse_categorical_crossentropy,\n",
    "                  optimizer=Adam(learning_rate),\n",
    "                  metrics=['accuracy'])\n",
    "    return model\n",
    "tests.test_simple_model(simple_model)\n",
    "\n",
    "# Reshaping the input to work with a basic RNN\n",
    "input_x_simple_rnn = pad(preproc_english_sentences, max_french_sequence_length)\n",
    "input_x_simple_rnn = input_x_simple_rnn.reshape((-1, preproc_french_sentences.shape[-2], 1))\n",
    "\n",
    "# Train the neural network\n",
    "simple_rnn_model = simple_model(\n",
    "    input_x_simple_rnn.shape,\n",
    "    max_french_sequence_length,\n",
    "    english_vocab_size,\n",
    "    french_vocab_size)\n",
    "simple_rnn_model.summary()\n",
    "history = simple_rnn_model.fit(input_x_simple_rnn, preproc_french_sentences, batch_size=1024, epochs=20, validation_split=0.2)\n",
    "plot_metrics(history)"
   ]
  },
  {
   "cell_type": "markdown",
   "metadata": {},
   "source": [
    "### Print Predictions from Simple RNN Model"
   ]
  },
  {
   "cell_type": "code",
   "execution_count": 182,
   "metadata": {},
   "outputs": [
    {
     "name": "stdout",
     "output_type": "stream",
     "text": [
      "English Sentence: the mango is their least liked fruit , but the lime is our least liked .\n",
      "Translated French Sentence: les pãªche est notre fruit aimã© aimã© mais la la est leur moins aimã© <PAD> <PAD> <PAD> <PAD> <PAD> <PAD> <PAD>\n",
      "English Sentence: california is mild during february , and it is warm in spring .\n",
      "Translated French Sentence: la est est en en et il est est en en <PAD> <PAD> <PAD> <PAD> <PAD> <PAD> <PAD> <PAD> <PAD> <PAD>\n",
      "English Sentence: the pear is our favorite fruit , but the grapefruit is my favorite .\n",
      "Translated French Sentence: les pãªche est notre fruit prã©fã©rã© mais la pamplemousse est son moins <PAD> <PAD> <PAD> <PAD> <PAD> <PAD> <PAD> <PAD> <PAD>\n",
      "English Sentence: i dislike lemons , pears , and bananas .\n",
      "Translated French Sentence: ils n'aime les les les les et les les <PAD> <PAD> <PAD> <PAD> <PAD> <PAD> <PAD> <PAD> <PAD> <PAD> <PAD> <PAD>\n",
      "English Sentence: paris is warm during january , and it is relaxing in april .\n",
      "Translated French Sentence: paris est est en l' et il il est en en <PAD> <PAD> <PAD> <PAD> <PAD> <PAD> <PAD> <PAD> <PAD> <PAD>\n",
      "English Sentence: india is never nice during autumn , and it is cold in winter .\n",
      "Translated French Sentence: paris est jamais agrã©able agrã©able en et et il il en en en <PAD> <PAD> <PAD> <PAD> <PAD> <PAD> <PAD> <PAD>\n",
      "English Sentence: california is usually busy during october , but it is never quiet in july .\n",
      "Translated French Sentence: la est est froid en en mais il est jamais jamais en en <PAD> <PAD> <PAD> <PAD> <PAD> <PAD> <PAD> <PAD>\n",
      "English Sentence: birds were her most feared animals .\n",
      "Translated French Sentence: ils a jersey le le plus <PAD> <PAD> <PAD> <PAD> <PAD> <PAD> <PAD> <PAD> <PAD> <PAD> <PAD> <PAD> <PAD> <PAD> <PAD>\n",
      "English Sentence: he dislikes mangoes , apples , and bananas .\n",
      "Translated French Sentence: elle aime les les les les et les <PAD> <PAD> <PAD> <PAD> <PAD> <PAD> <PAD> <PAD> <PAD> <PAD> <PAD> <PAD> <PAD>\n",
      "English Sentence: he liked a new red automobile .\n",
      "Translated French Sentence: elle fruit le le plus plus redoutã© <PAD> <PAD> <PAD> <PAD> <PAD> <PAD> <PAD> <PAD> <PAD> <PAD> <PAD> <PAD> <PAD> <PAD>\n"
     ]
    }
   ],
   "source": [
    "random_eng_samples = [ i for i in random.sample(range(len(english_sentences)), 10)]\n",
    "random_eng_sample_idxs = np.array([input_x_simple_rnn[i] for i in random_eng_samples])\n",
    "pred_translated_sentences = simple_rnn_model.predict(random_eng_sample_idxs)\n",
    "for eng_idx,logits in zip(random_eng_samples, pred_translated_sentences):\n",
    "    print('English Sentence: '+ english_sentences[eng_idx])\n",
    "    print('Translated French Sentence: '+ logits_to_text(logits,french_tokenizer))"
   ]
  },
  {
   "cell_type": "markdown",
   "metadata": {},
   "source": [
    "### Model 2: Embedding (IMPLEMENTATION)\n",
    "![RNN](images/embedding.png)\n",
    "You've turned the words into ids, but there's a better representation of a word.  This is called word embeddings.  An embedding is a vector representation of the word that is close to similar words in n-dimensional space, where the n represents the size of the embedding vectors.\n",
    "\n",
    "In this model, you'll create a RNN model using embedding."
   ]
  },
  {
   "cell_type": "code",
   "execution_count": 183,
   "metadata": {},
   "outputs": [
    {
     "name": "stdout",
     "output_type": "stream",
     "text": [
      "_________________________________________________________________\n",
      "Layer (type)                 Output Shape              Param #   \n",
      "=================================================================\n",
      "input_39 (InputLayer)        (None, 21)                0         \n",
      "_________________________________________________________________\n",
      "embedding_28 (Embedding)     (None, 21, 200)           39800     \n",
      "_________________________________________________________________\n",
      "gru_62 (GRU)                 (None, 21, 64)            50880     \n",
      "_________________________________________________________________\n",
      "time_distributed_35 (TimeDis (None, 21, 345)           22425     \n",
      "_________________________________________________________________\n",
      "activation_15 (Activation)   (None, 21, 345)           0         \n",
      "=================================================================\n",
      "Total params: 113,105\n",
      "Trainable params: 113,105\n",
      "Non-trainable params: 0\n",
      "_________________________________________________________________\n",
      "Train on 110288 samples, validate on 27573 samples\n",
      "Epoch 1/20\n",
      "110288/110288 [==============================] - 8s 74us/step - loss: 3.6655 - acc: 0.4123 - val_loss: nan - val_acc: 0.4111\n",
      "Epoch 2/20\n",
      "110288/110288 [==============================] - 5s 43us/step - loss: 2.4962 - acc: 0.4746 - val_loss: nan - val_acc: 0.5707\n",
      "Epoch 3/20\n",
      "110288/110288 [==============================] - 5s 42us/step - loss: 1.6451 - acc: 0.6190 - val_loss: nan - val_acc: 0.6600\n",
      "Epoch 4/20\n",
      "110288/110288 [==============================] - 5s 42us/step - loss: 1.1658 - acc: 0.7048 - val_loss: nan - val_acc: 0.7422\n",
      "Epoch 5/20\n",
      "110288/110288 [==============================] - 5s 43us/step - loss: 0.8809 - acc: 0.7637 - val_loss: nan - val_acc: 0.7836\n",
      "Epoch 6/20\n",
      "110288/110288 [==============================] - 5s 43us/step - loss: 0.7329 - acc: 0.7961 - val_loss: nan - val_acc: 0.8098\n",
      "Epoch 7/20\n",
      "110288/110288 [==============================] - 5s 43us/step - loss: 0.6402 - acc: 0.8171 - val_loss: nan - val_acc: 0.8259\n",
      "Epoch 8/20\n",
      "110288/110288 [==============================] - 5s 42us/step - loss: 0.5759 - acc: 0.8324 - val_loss: nan - val_acc: 0.8388\n",
      "Epoch 9/20\n",
      "110288/110288 [==============================] - 5s 43us/step - loss: 0.5286 - acc: 0.8435 - val_loss: nan - val_acc: 0.8506\n",
      "Epoch 10/20\n",
      "110288/110288 [==============================] - 5s 43us/step - loss: 0.4904 - acc: 0.8532 - val_loss: nan - val_acc: 0.8583\n",
      "Epoch 11/20\n",
      "110288/110288 [==============================] - 5s 43us/step - loss: 0.4604 - acc: 0.8615 - val_loss: nan - val_acc: 0.8659\n",
      "Epoch 12/20\n",
      "110288/110288 [==============================] - 5s 42us/step - loss: 0.4334 - acc: 0.8696 - val_loss: nan - val_acc: 0.8738\n",
      "Epoch 13/20\n",
      "110288/110288 [==============================] - 5s 43us/step - loss: 0.4124 - acc: 0.8760 - val_loss: nan - val_acc: 0.8784\n",
      "Epoch 14/20\n",
      "110288/110288 [==============================] - 5s 43us/step - loss: 0.3923 - acc: 0.8822 - val_loss: nan - val_acc: 0.8838\n",
      "Epoch 15/20\n",
      "110288/110288 [==============================] - 5s 42us/step - loss: 0.3765 - acc: 0.8870 - val_loss: nan - val_acc: 0.8880\n",
      "Epoch 16/20\n",
      "110288/110288 [==============================] - 5s 42us/step - loss: 0.3626 - acc: 0.8909 - val_loss: nan - val_acc: 0.8923\n",
      "Epoch 17/20\n",
      "110288/110288 [==============================] - 5s 43us/step - loss: 0.3488 - acc: 0.8951 - val_loss: nan - val_acc: 0.8955\n",
      "Epoch 18/20\n",
      "110288/110288 [==============================] - 5s 43us/step - loss: 0.3378 - acc: 0.8979 - val_loss: nan - val_acc: 0.8997\n",
      "Epoch 19/20\n",
      "110288/110288 [==============================] - 5s 43us/step - loss: 0.3274 - acc: 0.9009 - val_loss: nan - val_acc: 0.9017\n",
      "Epoch 20/20\n",
      "110288/110288 [==============================] - 5s 42us/step - loss: 0.3186 - acc: 0.9035 - val_loss: nan - val_acc: 0.9042\n"
     ]
    },
    {
     "data": {
      "image/png": "[encoded data removed]",
      "text/plain": [
       "<Figure size 432x288 with 1 Axes>"
      ]
     },
     "metadata": {
      "needs_background": "light"
     },
     "output_type": "display_data"
    },
    {
     "data": {
      "image/png": "[encoded data removed]",
      "text/plain": [
       "<Figure size 432x288 with 1 Axes>"
      ]
     },
     "metadata": {
      "needs_background": "light"
     },
     "output_type": "display_data"
    }
   ],
   "source": [
    "def embed_model(input_shape, output_sequence_length, english_vocab_size, french_vocab_size):\n",
    "    \"\"\"\n",
    "    Build and train a RNN model using word embedding on x and y\n",
    "    :param input_shape: Tuple of input shape\n",
    "    :param output_sequence_length: Length of output sequence\n",
    "    :param english_vocab_size: Number of unique English words in the dataset\n",
    "    :param french_vocab_size: Number of unique French words in the dataset\n",
    "    :return: Keras model built, but not trained\n",
    "    \"\"\"\n",
    "    learning_rate = 1e-3\n",
    "\n",
    "    input_seq = Input(input_shape[1:])\n",
    "    #input_seq = Input(shape = (input_shape[0],))\n",
    "    EMBEDDING_DIM = 200\n",
    "    embedding_matrix = np.zeros([english_vocab_size, EMBEDDING_DIM])\n",
    "    embedding_layer =  Embedding(input_dim = english_vocab_size, \n",
    "                                 output_dim = EMBEDDING_DIM, \n",
    "                                 weights = [embedding_matrix],\n",
    "                                 input_length =  input_shape[1],\n",
    "                                 trainable = True                                 \n",
    "                                )\n",
    "    embed = embedding_layer(input_seq)\n",
    "    rnn = GRU(64, return_sequences=True)\n",
    "    input_to_rnn = rnn(embed)\n",
    "    logits = TimeDistributed(Dense(french_vocab_size))(input_to_rnn)\n",
    "\n",
    "    model = Model(input_seq, Activation('softmax')(logits))\n",
    "    model.compile(loss=sparse_categorical_crossentropy,\n",
    "                  optimizer=Adam(learning_rate),\n",
    "                  metrics=['accuracy'])\n",
    "    return model\n",
    "tests.test_embed_model(embed_model)\n",
    "\n",
    "\n",
    "# Reshape the input\n",
    "input_x_embed_rnn = pad(preproc_english_sentences, max_french_sequence_length)\n",
    "#tmp_x = tmp_x.reshape((-1, preproc_french_sentences.shape[-2], 1))\n",
    "\n",
    "# Train the neural network\n",
    "embed_rnn_model = embed_model(input_x_embed_rnn.shape, max_french_sequence_length,\n",
    "                              english_vocab_size, french_vocab_size)\n",
    "embed_rnn_model.summary()\n",
    "history = embed_rnn_model.fit(input_x_embed_rnn, preproc_french_sentences, batch_size=1024, epochs=20, validation_split=0.2)\n",
    "plot_metrics(history)"
   ]
  },
  {
   "cell_type": "markdown",
   "metadata": {},
   "source": [
    "### Print Predictions from RNN using Embedding"
   ]
  },
  {
   "cell_type": "code",
   "execution_count": 184,
   "metadata": {},
   "outputs": [
    {
     "name": "stdout",
     "output_type": "stream",
     "text": [
      "English Sentence: china is usually cold during summer , but it is sometimes quiet in may .\n",
      "Translated French Sentence: chine est gã©nã©ralement froid en l' ã©tã© mais il est parfois calme en mai <PAD> <PAD> <PAD> <PAD> <PAD> <PAD> <PAD>\n",
      "English Sentence: france is warm during november , but it is never cold in april .\n",
      "Translated French Sentence: la france chaud en mois de novembre mais il fait jamais jamais froid en avril <PAD> <PAD> <PAD> <PAD> <PAD> <PAD>\n",
      "English Sentence: they are going to new jersey next august .\n",
      "Translated French Sentence: ils vont en en <PAD> <PAD> prochain <PAD> <PAD> <PAD> <PAD> <PAD> <PAD> <PAD> <PAD> <PAD> <PAD> <PAD> <PAD> <PAD> <PAD>\n",
      "English Sentence: the lime is our favorite fruit , but the orange is my favorite.\n",
      "Translated French Sentence: les chaux est notre fruit prã©fã©rã© mais la est mon prã©fã©rã© <PAD> <PAD> <PAD> <PAD> <PAD> <PAD> <PAD> <PAD> <PAD> <PAD>\n",
      "English Sentence: california is nice during july , but it is never rainy in october .\n",
      "Translated French Sentence: californie est agrã©able en juillet mais il est jamais en <PAD> <PAD> <PAD> <PAD> <PAD> <PAD> <PAD> <PAD> <PAD> <PAD> <PAD>\n",
      "English Sentence: the lime is their least liked fruit , but the grape is my least liked.\n",
      "Translated French Sentence: les chaux est leur fruit moins aimã© mais la raisin est mon moins aimã© <PAD> <PAD> <PAD> <PAD> <PAD> <PAD> <PAD>\n",
      "English Sentence: new jersey is never busy during march , but it is mild in fall .\n",
      "Translated French Sentence: new jersey est jamais occupã© en mars mais il est doux en l' automne <PAD> <PAD> <PAD> <PAD> <PAD> <PAD> <PAD>\n",
      "English Sentence: the apple is my least liked fruit , but the peach is his least liked .\n",
      "Translated French Sentence: les pomme est mon moins moins des fruits mais la pãªche est son moins aimã© <PAD> <PAD> <PAD> <PAD> <PAD> <PAD>\n",
      "English Sentence: new jersey is mild during july , and it is never warm in winter .\n",
      "Translated French Sentence: new jersey est doux au juillet et il est jamais chaud en hiver <PAD> <PAD> <PAD> <PAD> <PAD> <PAD> <PAD> <PAD>\n",
      "English Sentence: france is never chilly during summer , and it is usually dry in june .\n",
      "Translated French Sentence: la france est jamais froid pendant l' ã©tã© et il est gã©nã©ralement sec en juin <PAD> <PAD> <PAD> <PAD> <PAD> <PAD>\n"
     ]
    }
   ],
   "source": [
    "random_eng_samples = [ i for i in random.sample(range(len(english_sentences)), 10)]\n",
    "random_eng_sample_idxs = np.array([input_x_embed_rnn[i] for i in random_eng_samples])\n",
    "pred_translated_sentences = embed_rnn_model.predict(random_eng_sample_idxs)\n",
    "for eng_idx,logits in zip(random_eng_samples, pred_translated_sentences):\n",
    "    print('English Sentence: '+ english_sentences[eng_idx])\n",
    "    print('Translated French Sentence: '+ logits_to_text(logits,french_tokenizer))\n"
   ]
  },
  {
   "cell_type": "markdown",
   "metadata": {},
   "source": [
    "### Model 3: Bidirectional RNNs (IMPLEMENTATION)\n",
    "![RNN](images/bidirectional.png)\n",
    "One restriction of a RNN is that it can't see the future input, only the past.  This is where bidirectional recurrent neural networks come in.  They are able to see the future data."
   ]
  },
  {
   "cell_type": "code",
   "execution_count": 185,
   "metadata": {},
   "outputs": [
    {
     "name": "stdout",
     "output_type": "stream",
     "text": [
      "_________________________________________________________________\n",
      "Layer (type)                 Output Shape              Param #   \n",
      "=================================================================\n",
      "input_41 (InputLayer)        (None, 21, 1)             0         \n",
      "_________________________________________________________________\n",
      "bidirectional_26 (Bidirectio (None, 21, 128)           25344     \n",
      "_________________________________________________________________\n",
      "time_distributed_37 (TimeDis (None, 21, 345)           44505     \n",
      "_________________________________________________________________\n",
      "activation_17 (Activation)   (None, 21, 345)           0         \n",
      "=================================================================\n",
      "Total params: 69,849\n",
      "Trainable params: 69,849\n",
      "Non-trainable params: 0\n",
      "_________________________________________________________________\n",
      "Train on 110288 samples, validate on 27573 samples\n",
      "Epoch 1/20\n",
      "110288/110288 [==============================] - 9s 85us/step - loss: 3.1631 - acc: 0.4721 - val_loss: nan - val_acc: 0.5245\n",
      "Epoch 2/20\n",
      "110288/110288 [==============================] - 5s 50us/step - loss: 1.9340 - acc: 0.5533 - val_loss: nan - val_acc: 0.5745\n",
      "Epoch 3/20\n",
      "110288/110288 [==============================] - 5s 49us/step - loss: 1.6187 - acc: 0.5924 - val_loss: nan - val_acc: 0.6096\n",
      "Epoch 4/20\n",
      "110288/110288 [==============================] - 6s 51us/step - loss: 1.4783 - acc: 0.6141 - val_loss: nan - val_acc: 0.6206\n",
      "Epoch 5/20\n",
      "110288/110288 [==============================] - 5s 49us/step - loss: 1.3938 - acc: 0.6250 - val_loss: nan - val_acc: 0.6315\n",
      "Epoch 6/20\n",
      "110288/110288 [==============================] - 5s 49us/step - loss: 1.3261 - acc: 0.6371 - val_loss: nan - val_acc: 0.6425\n",
      "Epoch 7/20\n",
      "110288/110288 [==============================] - 5s 49us/step - loss: 1.2731 - acc: 0.6464 - val_loss: nan - val_acc: 0.6497\n",
      "Epoch 8/20\n",
      "110288/110288 [==============================] - 5s 49us/step - loss: 1.2309 - acc: 0.6526 - val_loss: nan - val_acc: 0.6552\n",
      "Epoch 9/20\n",
      "110288/110288 [==============================] - 5s 49us/step - loss: 1.1958 - acc: 0.6589 - val_loss: nan - val_acc: 0.6608\n",
      "Epoch 10/20\n",
      "110288/110288 [==============================] - 5s 49us/step - loss: 1.1640 - acc: 0.6644 - val_loss: nan - val_acc: 0.6687\n",
      "Epoch 11/20\n",
      "110288/110288 [==============================] - 5s 49us/step - loss: 1.1367 - acc: 0.6695 - val_loss: nan - val_acc: 0.6703\n",
      "Epoch 12/20\n",
      "110288/110288 [==============================] - 6s 51us/step - loss: 1.1136 - acc: 0.6738 - val_loss: nan - val_acc: 0.6769\n",
      "Epoch 13/20\n",
      "110288/110288 [==============================] - 5s 49us/step - loss: 1.0935 - acc: 0.6774 - val_loss: nan - val_acc: 0.6801\n",
      "Epoch 14/20\n",
      "110288/110288 [==============================] - 5s 49us/step - loss: 1.0758 - acc: 0.6799 - val_loss: nan - val_acc: 0.6809\n",
      "Epoch 15/20\n",
      "110288/110288 [==============================] - 5s 49us/step - loss: 1.0597 - acc: 0.6824 - val_loss: nan - val_acc: 0.6845\n",
      "Epoch 16/20\n",
      "110288/110288 [==============================] - 5s 49us/step - loss: 1.0447 - acc: 0.6847 - val_loss: nan - val_acc: 0.6844\n",
      "Epoch 17/20\n",
      "110288/110288 [==============================] - 5s 49us/step - loss: 1.0305 - acc: 0.6868 - val_loss: nan - val_acc: 0.6881\n",
      "Epoch 18/20\n",
      "110288/110288 [==============================] - 5s 50us/step - loss: 1.0172 - acc: 0.6885 - val_loss: nan - val_acc: 0.6911\n",
      "Epoch 19/20\n",
      "110288/110288 [==============================] - 5s 49us/step - loss: 1.0046 - acc: 0.6903 - val_loss: nan - val_acc: 0.6909\n",
      "Epoch 20/20\n",
      "110288/110288 [==============================] - 5s 49us/step - loss: 0.9932 - acc: 0.6920 - val_loss: nan - val_acc: 0.6930\n"
     ]
    },
    {
     "data": {
      "image/png": "[encoded data removed]",
      "text/plain": [
       "<Figure size 432x288 with 1 Axes>"
      ]
     },
     "metadata": {
      "needs_background": "light"
     },
     "output_type": "display_data"
    },
    {
     "data": {
      "image/png": "[encoded data removed]",
      "text/plain": [
       "<Figure size 432x288 with 1 Axes>"
      ]
     },
     "metadata": {
      "needs_background": "light"
     },
     "output_type": "display_data"
    }
   ],
   "source": [
    "def bd_model(input_shape, output_sequence_length, english_vocab_size, french_vocab_size):\n",
    "    \"\"\"\n",
    "    Build and train a bidirectional RNN model on x and y\n",
    "    :param input_shape: Tuple of input shape\n",
    "    :param output_sequence_length: Length of output sequence\n",
    "    :param english_vocab_size: Number of unique English words in the dataset\n",
    "    :param french_vocab_size: Number of unique French words in the dataset\n",
    "    :return: Keras model built, but not trained\n",
    "    \"\"\"\n",
    "    learning_rate = 1e-3\n",
    "\n",
    "    input_seq = Input(input_shape[1:])\n",
    "    #input_seq = Input(shape = (input_shape[0],))\n",
    "    rnn = Bidirectional(GRU(64, return_sequences=True))\n",
    "    input_to_rnn = rnn(input_seq)\n",
    "    logits = TimeDistributed(Dense(french_vocab_size))(input_to_rnn)\n",
    "\n",
    "    model = Model(input_seq, Activation('softmax')(logits))\n",
    "    model.compile(loss=sparse_categorical_crossentropy,\n",
    "                  optimizer=Adam(learning_rate),\n",
    "                  metrics=['accuracy'])\n",
    "    return model\n",
    "tests.test_bd_model(bd_model)\n",
    "\n",
    "input_x_bd_rnn = pad(preproc_english_sentences, max_french_sequence_length)\n",
    "input_x_bd_rnn = input_x_bd_rnn.reshape((-1, preproc_french_sentences.shape[-2], 1))\n",
    "\n",
    "# Train the neural network\n",
    "bd_rnn_model = bd_model(input_x_bd_rnn.shape, max_french_sequence_length,\n",
    "                              english_vocab_size, french_vocab_size)\n",
    "bd_rnn_model.summary()\n",
    "history = bd_rnn_model.fit(input_x_bd_rnn, preproc_french_sentences, batch_size=1024, epochs=20, validation_split=0.2)\n",
    "plot_metrics(history)"
   ]
  },
  {
   "cell_type": "markdown",
   "metadata": {},
   "source": [
    "### Print Predictions from Bi_Directional RNN"
   ]
  },
  {
   "cell_type": "code",
   "execution_count": 186,
   "metadata": {},
   "outputs": [
    {
     "name": "stdout",
     "output_type": "stream",
     "text": [
      "English Sentence: france is wet during may , but it is usually mild in september .\n",
      "Translated French Sentence: france est est au mois de mai mai il est est en en <PAD> <PAD> <PAD> <PAD> <PAD> <PAD> <PAD> <PAD>\n",
      "English Sentence: the united states is never warm during july , but it is relaxing in may .\n",
      "Translated French Sentence: les ã©tats unis est jamais jamais en mois mais il est il en en <PAD> <PAD> <PAD> <PAD> <PAD> <PAD> <PAD>\n",
      "English Sentence: the united states is sometimes cold during november , and it is freezing in may .\n",
      "Translated French Sentence: les ã©tats unis est parfois froid en l' et il est beau en en <PAD> <PAD> <PAD> <PAD> <PAD> <PAD> <PAD>\n",
      "English Sentence: paris is sometimes busy during autumn , and it is usually mild in december .\n",
      "Translated French Sentence: paris est parfois parfois en en et il il il est est en en <PAD> <PAD> <PAD> <PAD> <PAD> <PAD> <PAD>\n",
      "English Sentence: i like grapes , oranges , and limes .\n",
      "Translated French Sentence: vous n'aimez les les les les et les citrons <PAD> <PAD> <PAD> <PAD> <PAD> <PAD> <PAD> <PAD> <PAD> <PAD> <PAD> <PAD>\n",
      "English Sentence: the united states is never nice during april , and it is never pleasant in fall .\n",
      "Translated French Sentence: les ã©tats unis est jamais agrã©able en l' et il est jamais agrã©able en en <PAD> <PAD> <PAD> <PAD> <PAD> <PAD>\n",
      "English Sentence: india is busy during october , but it is chilly in december .\n",
      "Translated French Sentence: l' est est au mois mais il il il en en <PAD> <PAD> <PAD> <PAD> <PAD> <PAD> <PAD> <PAD> <PAD> <PAD>\n",
      "English Sentence: paris is wonderful during april , but it is sometimes nice in february .\n",
      "Translated French Sentence: paris est est en mois mais il il parfois agrã©able parfois en <PAD> <PAD> <PAD> <PAD> <PAD> <PAD> <PAD> <PAD> <PAD>\n",
      "English Sentence: the strawberry is their least liked fruit , but the banana is my least liked.\n",
      "Translated French Sentence: la fraise est notre fruit moins aimã© mais la la est est moins aimã© <PAD> <PAD> <PAD> <PAD> <PAD> <PAD> <PAD>\n",
      "English Sentence: he liked the new green automobile .\n",
      "Translated French Sentence: elle aimait le nouveau voiture <PAD> <PAD> <PAD> <PAD> <PAD> <PAD> <PAD> <PAD> <PAD> <PAD> <PAD> <PAD> <PAD> <PAD> <PAD> <PAD>\n"
     ]
    }
   ],
   "source": [
    "random_eng_samples = [ i for i in random.sample(range(len(english_sentences)), 10)]\n",
    "random_eng_sample_idxs = np.array([input_x_bd_rnn[i] for i in random_eng_samples])\n",
    "pred_translated_sentences = bd_rnn_model.predict(random_eng_sample_idxs)\n",
    "for eng_idx,logits in zip(random_eng_samples, pred_translated_sentences):\n",
    "    print('English Sentence: '+ english_sentences[eng_idx])\n",
    "    print('Translated French Sentence: '+ logits_to_text(logits,french_tokenizer))"
   ]
  },
  {
   "cell_type": "markdown",
   "metadata": {},
   "source": [
    "### Model 4: Encoder-Decoder (OPTIONAL)\n",
    "Time to look at encoder-decoder models.  This model is made up of an encoder and decoder. The encoder creates a matrix representation of the sentence.  The decoder takes this matrix as input and predicts the translation as output.\n",
    "\n",
    "Create an encoder-decoder model in the cell below."
   ]
  },
  {
   "cell_type": "code",
   "execution_count": 200,
   "metadata": {},
   "outputs": [
    {
     "name": "stdout",
     "output_type": "stream",
     "text": [
      "(None, 15, 1) (None, 21, 344)\n",
      "(137861, 15) 15\n",
      "(None, 15, 1) (None, 21, 345)\n",
      "_________________________________________________________________\n",
      "Layer (type)                 Output Shape              Param #   \n",
      "=================================================================\n",
      "input_62 (InputLayer)        (None, 15, 1)             0         \n",
      "_________________________________________________________________\n",
      "gru_103 (GRU)                (None, 64)                12672     \n",
      "_________________________________________________________________\n",
      "repeat_vector_43 (RepeatVect (None, 21, 64)            0         \n",
      "_________________________________________________________________\n",
      "gru_104 (GRU)                (None, 21, 64)            24768     \n",
      "_________________________________________________________________\n",
      "time_distributed_56 (TimeDis (None, 21, 345)           22425     \n",
      "=================================================================\n",
      "Total params: 59,865\n",
      "Trainable params: 59,865\n",
      "Non-trainable params: 0\n",
      "_________________________________________________________________\n",
      "Train on 110288 samples, validate on 27573 samples\n",
      "Epoch 1/20\n",
      "110288/110288 [==============================] - 11s 100us/step - loss: 3.3889 - acc: 0.4147 - val_loss: nan - val_acc: 0.4521\n",
      "Epoch 2/20\n",
      "110288/110288 [==============================] - 6s 56us/step - loss: 2.5722 - acc: 0.4728 - val_loss: nan - val_acc: 0.4874\n",
      "Epoch 3/20\n",
      "110288/110288 [==============================] - 6s 55us/step - loss: 2.3887 - acc: 0.4925 - val_loss: nan - val_acc: 0.5011\n",
      "Epoch 4/20\n",
      "110288/110288 [==============================] - 6s 55us/step - loss: 2.2567 - acc: 0.5024 - val_loss: nan - val_acc: 0.5104\n",
      "Epoch 5/20\n",
      "110288/110288 [==============================] - 6s 55us/step - loss: 2.1310 - acc: 0.5086 - val_loss: nan - val_acc: 0.5162\n",
      "Epoch 6/20\n",
      "110288/110288 [==============================] - 6s 55us/step - loss: 2.0205 - acc: 0.5163 - val_loss: nan - val_acc: 0.5196\n",
      "Epoch 7/20\n",
      "110288/110288 [==============================] - 6s 55us/step - loss: 1.9530 - acc: 0.5192 - val_loss: nan - val_acc: 0.5231\n",
      "Epoch 8/20\n",
      "110288/110288 [==============================] - 6s 55us/step - loss: 1.8977 - acc: 0.5285 - val_loss: nan - val_acc: 0.5382\n",
      "Epoch 9/20\n",
      "110288/110288 [==============================] - 6s 55us/step - loss: 1.8458 - acc: 0.5460 - val_loss: nan - val_acc: 0.5509\n",
      "Epoch 10/20\n",
      "110288/110288 [==============================] - 6s 54us/step - loss: 1.7978 - acc: 0.5524 - val_loss: nan - val_acc: 0.5597\n",
      "Epoch 11/20\n",
      "110288/110288 [==============================] - 6s 55us/step - loss: 1.7534 - acc: 0.5585 - val_loss: nan - val_acc: 0.5585\n",
      "Epoch 12/20\n",
      "110288/110288 [==============================] - 6s 55us/step - loss: 1.7053 - acc: 0.5627 - val_loss: nan - val_acc: 0.5637\n",
      "Epoch 13/20\n",
      "110288/110288 [==============================] - 6s 55us/step - loss: 1.6577 - acc: 0.5688 - val_loss: nan - val_acc: 0.5768\n",
      "Epoch 14/20\n",
      "110288/110288 [==============================] - 6s 55us/step - loss: 1.6149 - acc: 0.5773 - val_loss: nan - val_acc: 0.5828ss: \n",
      "Epoch 15/20\n",
      "110288/110288 [==============================] - 6s 55us/step - loss: 1.5792 - acc: 0.5850 - val_loss: nan - val_acc: 0.5913 0s - loss: 1.5818 - \n",
      "Epoch 16/20\n",
      "110288/110288 [==============================] - 6s 54us/step - loss: 1.5470 - acc: 0.5926 - val_loss: nan - val_acc: 0.5944\n",
      "Epoch 17/20\n",
      "110288/110288 [==============================] - 6s 55us/step - loss: 1.5174 - acc: 0.5959 - val_loss: nan - val_acc: 0.5996\n",
      "Epoch 18/20\n",
      "110288/110288 [==============================] - 6s 55us/step - loss: 1.4923 - acc: 0.5992 - val_loss: nan - val_acc: 0.6006\n",
      "Epoch 19/20\n",
      "110288/110288 [==============================] - 6s 56us/step - loss: 1.4714 - acc: 0.6026 - val_loss: nan - val_acc: 0.6057\n",
      "Epoch 20/20\n",
      "110288/110288 [==============================] - 6s 55us/step - loss: 1.4501 - acc: 0.6065 - val_loss: nan - val_acc: 0.6005\n"
     ]
    },
    {
     "data": {
      "image/png": "[encoded data removed]",
      "text/plain": [
       "<Figure size 432x288 with 1 Axes>"
      ]
     },
     "metadata": {
      "needs_background": "light"
     },
     "output_type": "display_data"
    },
    {
     "data": {
      "image/png": "[encoded data removed]",
      "text/plain": [
       "<Figure size 432x288 with 1 Axes>"
      ]
     },
     "metadata": {
      "needs_background": "light"
     },
     "output_type": "display_data"
    }
   ],
   "source": [
    "def encdec_model(input_shape, output_sequence_length, english_vocab_size, french_vocab_size):\n",
    "    \"\"\"\n",
    "    Build and train an encoder-decoder model on x and y\n",
    "    :param input_shape: Tuple of input shape\n",
    "    :param output_sequence_length: Length of output sequence\n",
    "    :param english_vocab_size: Number of unique English words in the dataset\n",
    "    :param french_vocab_size: Number of unique French words in the dataset\n",
    "    :return: Keras model built, but not trained\n",
    "    \"\"\"\n",
    "    learning_rate = 1e-3\n",
    "    \n",
    "    input_seq = Input(input_shape[1:])\n",
    "    encoder = GRU(64, return_sequences = False)\n",
    "    encoder_outputs = encoder(input_seq)\n",
    "    \n",
    "    decoded_inputs = RepeatVector(output_sequence_length)(encoder_outputs)\n",
    "    decoder = GRU(64, return_sequences=True)\n",
    "    decoder_outputs =  decoder(decoded_inputs)   \n",
    "\n",
    "    logits = TimeDistributed(Dense(french_vocab_size, activation = 'softmax'))(decoder_outputs)\n",
    "\n",
    "    model = Model(input_seq , logits)\n",
    "    print(model.input_shape, model.output_shape)\n",
    "    model.compile(loss=sparse_categorical_crossentropy,\n",
    "                  optimizer=Adam(learning_rate),\n",
    "                  metrics=['accuracy'])   \n",
    "    \n",
    "   \n",
    "    \n",
    "    return model\n",
    "tests.test_encdec_model(encdec_model)\n",
    "input_x_ec_dc_rnn = preproc_english_sentences\n",
    "#input_x_ec_dc_rnn = pad(preproc_english_sentences, max_french_sequence_length)\n",
    "print(input_x_ec_dc_rnn.shape, preproc_english_sentences.shape[-1])\n",
    "input_x_ec_dc_rnn = input_x_ec_dc_rnn.reshape((-1, preproc_english_sentences.shape[-1], 1))\n",
    "\n",
    "# Train the neural network\n",
    "ec_dc_model = encdec_model(input_x_ec_dc_rnn.shape, max_french_sequence_length,\n",
    "                           english_vocab_size, french_vocab_size)\n",
    "ec_dc_model.summary()\n",
    "history = ec_dc_model.fit(input_x_ec_dc_rnn, preproc_french_sentences, batch_size = 1024, epochs = 20, validation_split=0.2)\n",
    "\n",
    "plot_metrics(history)"
   ]
  },
  {
   "cell_type": "markdown",
   "metadata": {},
   "source": [
    "### Print Predictions from Encoder Decoder RNN"
   ]
  },
  {
   "cell_type": "code",
   "execution_count": 201,
   "metadata": {},
   "outputs": [
    {
     "name": "stdout",
     "output_type": "stream",
     "text": [
      "English Sentence: paris is wonderful during autumn , and it is freezing in fall .\n",
      "Translated French Sentence: paris est est en en mais il il est en en <PAD> <PAD> <PAD> <PAD> <PAD> <PAD> <PAD> <PAD> <PAD> <PAD>\n",
      "English Sentence: india is sometimes chilly during may , but it is usually rainy in autumn .\n",
      "Translated French Sentence: la est est parfois en en mais et il est est en en en <PAD> <PAD> <PAD> <PAD> <PAD> <PAD> <PAD>\n",
      "English Sentence: the apple is your least favorite fruit , but the pear is his least favorite .\n",
      "Translated French Sentence: la est est fruit fruit prã©fã©rã© prã©fã©rã© mais mais mais est est moins moins <PAD> <PAD> <PAD> <PAD> <PAD> <PAD> <PAD>\n",
      "English Sentence: california is usually chilly during september , but it is sometimes wet in winter .\n",
      "Translated French Sentence: la est est parfois en en mais et il est est en en en <PAD> <PAD> <PAD> <PAD> <PAD> <PAD> <PAD>\n",
      "English Sentence: he likes mangoes , lemons , and pears .\n",
      "Translated French Sentence: elle aime les les les les et les les <PAD> <PAD> <PAD> <PAD> <PAD> <PAD> <PAD> <PAD> <PAD> <PAD> <PAD> <PAD>\n",
      "English Sentence: my least favorite fruit is the grape , but our least favorite is the peach.\n",
      "Translated French Sentence: son fruit prã©fã©rã© moins est la mais mais moins moins est est la <PAD> <PAD> <PAD> <PAD> <PAD> <PAD> <PAD> <PAD>\n",
      "English Sentence: he was driving that big blue car .\n",
      "Translated French Sentence: elle a conduit voiture voiture voiture <PAD> <PAD> <PAD> <PAD> <PAD> <PAD> <PAD> <PAD> <PAD> <PAD> <PAD> <PAD> <PAD> <PAD> <PAD>\n",
      "English Sentence: france is never hot during november , but it is usually quiet in fall .\n",
      "Translated French Sentence: la est est parfois en en mais et il est est en en en <PAD> <PAD> <PAD> <PAD> <PAD> <PAD> <PAD>\n",
      "English Sentence: china is never chilly during february , but it is never wonderful in autumn .\n",
      "Translated French Sentence: la est est parfois en en mais et il est est en en <PAD> <PAD> <PAD> <PAD> <PAD> <PAD> <PAD> <PAD>\n",
      "English Sentence: she saw the old red automobile .\n",
      "Translated French Sentence: elle a conduit voiture voiture voiture <PAD> <PAD> <PAD> <PAD> <PAD> <PAD> <PAD> <PAD> <PAD> <PAD> <PAD> <PAD> <PAD> <PAD> <PAD>\n"
     ]
    }
   ],
   "source": [
    "random_eng_samples = [ i for i in random.sample(range(len(english_sentences)), 10)]\n",
    "random_eng_sample_idxs = np.array([input_x_ec_dc_rnn[i] for i in random_eng_samples])\n",
    "pred_translated_sentences = ec_dc_model.predict(random_eng_sample_idxs)\n",
    "for eng_idx,logits in zip(random_eng_samples, pred_translated_sentences):\n",
    "    print('English Sentence: '+ english_sentences[eng_idx])\n",
    "    print('Translated French Sentence: '+ logits_to_text(logits,french_tokenizer))"
   ]
  },
  {
   "cell_type": "markdown",
   "metadata": {},
   "source": [
    "### Model 5: Custom (IMPLEMENTATION)\n",
    "Use everything you learned from the previous models to create a model that incorporates embedding and a bidirectional rnn into one model.\n",
    " 1. Use Embedding\n",
    " 2. Use Bi-directional Encoder Decoder Architecture"
   ]
  },
  {
   "cell_type": "code",
   "execution_count": 203,
   "metadata": {
    "scrolled": false
   },
   "outputs": [
    {
     "name": "stdout",
     "output_type": "stream",
     "text": [
      "(None, 15) (None, 21, 344)\n",
      "Final Model Loaded\n",
      "(None, 15) (None, 21, 345)\n",
      "_________________________________________________________________\n",
      "Layer (type)                 Output Shape              Param #   \n",
      "=================================================================\n",
      "input_66 (InputLayer)        (None, 15)                0         \n",
      "_________________________________________________________________\n",
      "embedding_32 (Embedding)     (None, 15, 200)           39800     \n",
      "_________________________________________________________________\n",
      "bidirectional_33 (Bidirectio (None, 256)               252672    \n",
      "_________________________________________________________________\n",
      "repeat_vector_47 (RepeatVect (None, 21, 256)           0         \n",
      "_________________________________________________________________\n",
      "bidirectional_34 (Bidirectio (None, 21, 256)           295680    \n",
      "_________________________________________________________________\n",
      "time_distributed_60 (TimeDis (None, 21, 345)           88665     \n",
      "=================================================================\n",
      "Total params: 676,817\n",
      "Trainable params: 676,817\n",
      "Non-trainable params: 0\n",
      "_________________________________________________________________\n",
      "Train on 110288 samples, validate on 27573 samples\n",
      "Epoch 1/30\n",
      "110288/110288 [==============================] - 17s 152us/step - loss: 3.0408 - acc: 0.4414 - val_loss: nan - val_acc: 0.4863\n",
      "Epoch 2/30\n",
      "110288/110288 [==============================] - 10s 94us/step - loss: 1.9692 - acc: 0.5121 - val_loss: nan - val_acc: 0.5478\n",
      "Epoch 3/30\n",
      "110288/110288 [==============================] - 10s 94us/step - loss: 1.6220 - acc: 0.5777 - val_loss: nan - val_acc: 0.5994\n",
      "Epoch 4/30\n",
      "110288/110288 [==============================] - 10s 94us/step - loss: 1.4059 - acc: 0.6187 - val_loss: nan - val_acc: 0.6410\n",
      "Epoch 5/30\n",
      "110288/110288 [==============================] - 10s 95us/step - loss: 1.2499 - acc: 0.6584 - val_loss: nan - val_acc: 0.6603\n",
      "Epoch 6/30\n",
      "110288/110288 [==============================] - 10s 95us/step - loss: 1.1133 - acc: 0.6886 - val_loss: nan - val_acc: 0.6997\n",
      "Epoch 7/30\n",
      "110288/110288 [==============================] - 10s 95us/step - loss: 1.0189 - acc: 0.7089 - val_loss: nan - val_acc: 0.7172\n",
      "Epoch 8/30\n",
      "110288/110288 [==============================] - 10s 95us/step - loss: 0.9457 - acc: 0.7253 - val_loss: nan - val_acc: 0.7241\n",
      "Epoch 9/30\n",
      "110288/110288 [==============================] - 10s 95us/step - loss: 0.8925 - acc: 0.7356 - val_loss: nan - val_acc: 0.7407\n",
      "Epoch 10/30\n",
      "110288/110288 [==============================] - 10s 95us/step - loss: 0.8443 - acc: 0.7466 - val_loss: nan - val_acc: 0.7542\n",
      "Epoch 11/30\n",
      "110288/110288 [==============================] - 10s 95us/step - loss: 0.8005 - acc: 0.7593 - val_loss: nan - val_acc: 0.7663\n",
      "Epoch 12/30\n",
      "110288/110288 [==============================] - 10s 95us/step - loss: 0.7507 - acc: 0.7742 - val_loss: nan - val_acc: 0.7811\n",
      "Epoch 13/30\n",
      "110288/110288 [==============================] - 10s 95us/step - loss: 0.7100 - acc: 0.7881 - val_loss: nan - val_acc: 0.7952\n",
      "Epoch 14/30\n",
      "110288/110288 [==============================] - 10s 95us/step - loss: 0.6697 - acc: 0.8013 - val_loss: nan - val_acc: 0.8072\n",
      "Epoch 15/30\n",
      "110288/110288 [==============================] - 10s 95us/step - loss: 0.6316 - acc: 0.8134 - val_loss: nan - val_acc: 0.8194\n",
      "Epoch 16/30\n",
      "110288/110288 [==============================] - 10s 95us/step - loss: 0.5923 - acc: 0.8258 - val_loss: nan - val_acc: 0.8318\n",
      "Epoch 17/30\n",
      "110288/110288 [==============================] - 10s 95us/step - loss: 0.5571 - acc: 0.8366 - val_loss: nan - val_acc: 0.8398\n",
      "Epoch 18/30\n",
      "110288/110288 [==============================] - 10s 95us/step - loss: 0.5207 - acc: 0.8479 - val_loss: nan - val_acc: 0.8521\n",
      "Epoch 19/30\n",
      "110288/110288 [==============================] - 10s 95us/step - loss: 0.4882 - acc: 0.8581 - val_loss: nan - val_acc: 0.8620\n",
      "Epoch 20/30\n",
      "110288/110288 [==============================] - 10s 95us/step - loss: 0.4550 - acc: 0.8696 - val_loss: nan - val_acc: 0.8723\n",
      "Epoch 21/30\n",
      "110288/110288 [==============================] - 10s 95us/step - loss: 0.4235 - acc: 0.8813 - val_loss: nan - val_acc: 0.8860\n",
      "Epoch 22/30\n",
      "110288/110288 [==============================] - 10s 95us/step - loss: 0.3898 - acc: 0.8927 - val_loss: nan - val_acc: 0.8928\n",
      "Epoch 23/30\n",
      "110288/110288 [==============================] - 10s 95us/step - loss: 0.3557 - acc: 0.9026 - val_loss: nan - val_acc: 0.9028\n",
      "Epoch 24/30\n",
      "110288/110288 [==============================] - 10s 95us/step - loss: 0.3271 - acc: 0.9111 - val_loss: nan - val_acc: 0.9116\n",
      "Epoch 25/30\n",
      "110288/110288 [==============================] - 10s 95us/step - loss: 0.3017 - acc: 0.9182 - val_loss: nan - val_acc: 0.9205\n",
      "Epoch 26/30\n",
      "110288/110288 [==============================] - 10s 95us/step - loss: 0.2805 - acc: 0.9237 - val_loss: nan - val_acc: 0.9260\n",
      "Epoch 27/30\n",
      "110288/110288 [==============================] - 10s 95us/step - loss: 0.2557 - acc: 0.9312 - val_loss: nan - val_acc: 0.9311\n",
      "Epoch 28/30\n",
      "110288/110288 [==============================] - 10s 95us/step - loss: 0.2331 - acc: 0.9381 - val_loss: nan - val_acc: 0.9380\n",
      "Epoch 29/30\n",
      "110288/110288 [==============================] - 10s 95us/step - loss: 0.2147 - acc: 0.9433 - val_loss: nan - val_acc: 0.9432\n",
      "Epoch 30/30\n",
      "110288/110288 [==============================] - 10s 95us/step - loss: 0.1976 - acc: 0.9480 - val_loss: nan - val_acc: 0.9465\n"
     ]
    },
    {
     "data": {
      "image/png": "[encoded data removed]",
      "text/plain": [
       "<Figure size 432x288 with 1 Axes>"
      ]
     },
     "metadata": {
      "needs_background": "light"
     },
     "output_type": "display_data"
    },
    {
     "data": {
      "image/png": "[encoded data removed]",
      "text/plain": [
       "<Figure size 432x288 with 1 Axes>"
      ]
     },
     "metadata": {
      "needs_background": "light"
     },
     "output_type": "display_data"
    }
   ],
   "source": [
    "def model_final(input_shape, output_sequence_length, english_vocab_size, french_vocab_size):\n",
    "    \"\"\"\n",
    "    Build and train a model that incorporates embedding, encoder-decoder, and bidirectional RNN on x and y\n",
    "    :param input_shape: Tuple of input shape\n",
    "    :param output_sequence_length: Length of output sequence\n",
    "    :param english_vocab_size: Number of unique English words in the dataset\n",
    "    :param french_vocab_size: Number of unique French words in the dataset\n",
    "    :return: Keras model built, but not trained\n",
    "    \"\"\"\n",
    "    \n",
    "    learning_rate = 1e-3\n",
    "    \n",
    "    input_seq = Input(input_shape[1:])\n",
    "    EMBEDDING_DIM = 200\n",
    "    embedding_matrix = np.zeros([english_vocab_size, EMBEDDING_DIM])\n",
    "    embedding_layer =  Embedding(input_dim = english_vocab_size, \n",
    "                                 output_dim = EMBEDDING_DIM, \n",
    "                                 weights = [embedding_matrix],\n",
    "                                 input_length =  input_shape[1],\n",
    "                                 trainable = True                                 \n",
    "                                )\n",
    "    embed = embedding_layer(input_seq)\n",
    "    \n",
    "    \n",
    "    encoder = Bidirectional(GRU(128, return_sequences = False))\n",
    "    encoder_outputs = encoder(embed)\n",
    "    \n",
    "    decoded_inputs = RepeatVector(output_sequence_length)(encoder_outputs)\n",
    "    decoder = Bidirectional(GRU(128, return_sequences=True))\n",
    "    decoder_outputs =  decoder(decoded_inputs)   \n",
    "\n",
    "    logits = TimeDistributed(Dense(french_vocab_size, activation = 'softmax'))(decoder_outputs)\n",
    "\n",
    "    model = Model(input_seq , logits)\n",
    "    print(model.input_shape, model.output_shape)\n",
    "    \n",
    "    model.compile(loss=sparse_categorical_crossentropy,\n",
    "                  optimizer=Adam(learning_rate),\n",
    "                  metrics=['accuracy'])   \n",
    "    \n",
    "   \n",
    "    \n",
    "    return model  \n",
    "     \n",
    "tests.test_model_final(model_final)\n",
    "print('Final Model Loaded')\n",
    "# Train the final model\n",
    "\n",
    "input_x_embed_ec_dc_rnn = preproc_english_sentences\n",
    "#input_x_embed_ec_dc_rnn = pad(preproc_english_sentences, max_french_sequence_length)\n",
    "#input_x_embed_ec_dc_rnn = input_x_ec_dc_rnn.reshape((-1, preproc_french_sentences.shape[-2], 1))\n",
    "# Train the neural network\n",
    "embed_ec_dc_model = model_final(input_x_embed_ec_dc_rnn.shape, max_french_sequence_length,\n",
    "                           english_vocab_size, french_vocab_size)\n",
    "embed_ec_dc_model.summary()\n",
    "\n",
    "history = embed_ec_dc_model.fit(input_x_embed_ec_dc_rnn, preproc_french_sentences, batch_size=1024, epochs=30, validation_split=0.2)\n",
    "\n",
    "plot_metrics(history)\n",
    "\n"
   ]
  },
  {
   "cell_type": "markdown",
   "metadata": {},
   "source": [
    "### Print Predictions from Bidirectional-Using-Embedding RNN"
   ]
  },
  {
   "cell_type": "code",
   "execution_count": 204,
   "metadata": {},
   "outputs": [
    {
     "name": "stdout",
     "output_type": "stream",
     "text": [
      "English Sentence: she dislikes bananas , grapes , and grapefruit .\n",
      "Translated French Sentence: elle dã©teste les bananes les raisins et le pamplemousse <PAD> <PAD> <PAD> <PAD> <PAD> <PAD> <PAD> <PAD> <PAD> <PAD> <PAD> <PAD>\n",
      "English Sentence: india is rainy during january , and it is sometimes relaxing in summer .\n",
      "Translated French Sentence: inde est pluvieux pluvieux janvier et il est parfois relaxant en ã©tã© <PAD> <PAD> <PAD> <PAD> <PAD> <PAD> <PAD> <PAD> <PAD>\n",
      "English Sentence: california is pleasant during june , but it is never snowy in march .\n",
      "Translated French Sentence: californie est agrã©able en mois de jamais mais il de neige en <PAD> <PAD> <PAD> <PAD> <PAD> <PAD> <PAD> <PAD> <PAD>\n",
      "English Sentence: he likes grapefruit , oranges , and bananas .\n",
      "Translated French Sentence: il aime le pamplemousse les oranges et les bananes <PAD> <PAD> <PAD> <PAD> <PAD> <PAD> <PAD> <PAD> <PAD> <PAD> <PAD> <PAD>\n",
      "English Sentence: new jersey is never nice during autumn , but it is hot in january .\n",
      "Translated French Sentence: new jersey est jamais agrã©able en automne mais il est chaud en janvier <PAD> <PAD> <PAD> <PAD> <PAD> <PAD> <PAD> <PAD>\n",
      "English Sentence: the orange is our favorite fruit , but the grape is his favorite .\n",
      "Translated French Sentence: l'orange est notre fruit prã©fã©rã© mais le raisin est son favori <PAD> <PAD> <PAD> <PAD> <PAD> <PAD> <PAD> <PAD> <PAD> <PAD>\n",
      "English Sentence: paris is never mild during fall , and it is sometimes wonderful in february .\n",
      "Translated French Sentence: paris est jamais doux ã  l'automne et il est parfois merveilleux en fã©vrier <PAD> <PAD> <PAD> <PAD> <PAD> <PAD> <PAD> <PAD>\n",
      "English Sentence: india is sometimes cold during october , and it is sometimes wet in winter .\n",
      "Translated French Sentence: l' inde est parfois froid en octobre et il est parfois humide en hiver <PAD> <PAD> <PAD> <PAD> <PAD> <PAD> <PAD>\n",
      "English Sentence: the united states is sometimes pleasant during december , and it is sometimes mild in spring .\n",
      "Translated French Sentence: les ã©tats unis est parfois agrã©able en dã©cembre et il est parfois doux au printemps <PAD> <PAD> <PAD> <PAD> <PAD> <PAD>\n",
      "English Sentence: france is never freezing during march , but it is rainy in november .\n",
      "Translated French Sentence: la france ne jamais en en en en pluvieux en novembre <PAD> <PAD> <PAD> <PAD> <PAD> <PAD> <PAD> <PAD> <PAD> <PAD>\n"
     ]
    }
   ],
   "source": [
    "random_eng_samples = [ i for i in random.sample(range(len(english_sentences)), 10)]\n",
    "random_eng_sample_idxs = np.array([input_x_embed_ec_dc_rnn[i] for i in random_eng_samples])\n",
    "pred_translated_sentences = embed_ec_dc_model.predict(random_eng_sample_idxs)\n",
    "for eng_idx,logits in zip(random_eng_samples, pred_translated_sentences):\n",
    "    print('English Sentence: '+ english_sentences[eng_idx])\n",
    "    print('Translated French Sentence: '+ logits_to_text(logits,french_tokenizer))    \n"
   ]
  },
  {
   "cell_type": "markdown",
   "metadata": {},
   "source": [
    "## Prediction (IMPLEMENTATION)"
   ]
  },
  {
   "cell_type": "code",
   "execution_count": 218,
   "metadata": {},
   "outputs": [
    {
     "name": "stdout",
     "output_type": "stream",
     "text": [
      "_________________________________________________________________\n",
      "Layer (type)                 Output Shape              Param #   \n",
      "=================================================================\n",
      "input_66 (InputLayer)        (None, 15)                0         \n",
      "_________________________________________________________________\n",
      "embedding_32 (Embedding)     (None, 15, 200)           39800     \n",
      "_________________________________________________________________\n",
      "bidirectional_33 (Bidirectio (None, 256)               252672    \n",
      "_________________________________________________________________\n",
      "repeat_vector_47 (RepeatVect (None, 21, 256)           0         \n",
      "_________________________________________________________________\n",
      "bidirectional_34 (Bidirectio (None, 21, 256)           295680    \n",
      "_________________________________________________________________\n",
      "time_distributed_60 (TimeDis (None, 21, 345)           88665     \n",
      "=================================================================\n",
      "Total params: 676,817\n",
      "Trainable params: 676,817\n",
      "Non-trainable params: 0\n",
      "_________________________________________________________________\n",
      "Sample 1:\n",
      "English Sentence:\n",
      " he saw a old yellow truck\n",
      "\n",
      "Predicted translated French sentence:\n",
      "il a vu un vieux camion jaune <PAD> <PAD> <PAD> <PAD> <PAD> <PAD> <PAD> <PAD> <PAD> <PAD> <PAD> <PAD> <PAD> <PAD>\n",
      "\n",
      "Actual French sentence:\n",
      "Il a vu un vieux camion jaune\n",
      "\n",
      "Sample 2:\n",
      "English Sentence:\n",
      "new jersey is sometimes quiet during autumn and it is snowy in april\n",
      "\n",
      "Predicted translated French sentence:\n",
      "new jersey est parfois calme pendant l' automne et il est neigeux avril avril <PAD> <PAD> <PAD> <PAD> <PAD> <PAD> <PAD>\n",
      "\n",
      "Actual French sentence:\n",
      "new jersey est parfois calme pendant l' automne et il est neigeux en avril\n"
     ]
    }
   ],
   "source": [
    "def final_predictions(x, y, x_tk, y_tk):\n",
    "    \"\"\"\n",
    "    Gets predictions using the final model\n",
    "    :param x: Preprocessed English data\n",
    "    :param y: Preprocessed French data\n",
    "    :param x_tk: English tokenizer\n",
    "    :param y_tk: French tokenizer\n",
    "    \"\"\"\n",
    "    # Train neural network using model_final\n",
    "    #model = model_final(input_x_embed_ec_dc_rnn.shape, max_french_sequence_length,\n",
    "    #                       english_vocab_size, french_vocab_size)\n",
    "    \n",
    "    \n",
    "    model = embed_ec_dc_model\n",
    "    model.summary()\n",
    "\n",
    "    #history = model.fit(input_x_embed_ec_dc_rnn, preproc_french_sentences, batch_size=1024, epochs = 30, validation_split=0.2)\n",
    "\n",
    "    #plot_metrics(history)\n",
    "\n",
    "       \n",
    "    ## DON'T EDIT ANYTHING BELOW THIS LINE\n",
    "    y_id_to_word = {value: key for key, value in y_tk.word_index.items()}\n",
    "    y_id_to_word[0] = '<PAD>'\n",
    "    \n",
    "    x_id_to_word = {value: key for key, value in x_tk.word_index.items()}\n",
    "    x_id_to_word[0] = '<PAD>'\n",
    "    \n",
    "    sentence = 'he saw a old yellow truck'\n",
    "    sentence = [x_tk.word_index[word] for word in sentence.split()]\n",
    "    sentence = pad_sequences([sentence], maxlen=x.shape[-1], padding='post')\n",
    "    sentences = np.array([sentence[0], x[0]])\n",
    "    predictions = model.predict(sentences, len(sentences))\n",
    "\n",
    "    print('Sample 1:')\n",
    "    print('English Sentence:\\n he saw a old yellow truck\\n')\n",
    "    print('Predicted translated French sentence:')\n",
    "    print(' '.join([y_id_to_word[np.argmax(x)] for x in predictions[0]]))\n",
    "    print('\\nActual French sentence:')\n",
    "    print('Il a vu un vieux camion jaune')\n",
    "    \n",
    "    print('\\nSample 2:')\n",
    "    print('English Sentence:')\n",
    "    print(' '.join([x_id_to_word[np.max(w)] for w in x[0] if w!=0]))\n",
    "    print('\\nPredicted translated French sentence:')\n",
    "    print(' '.join([y_id_to_word[np.argmax(w)] for w in predictions[1]]))\n",
    "    print('\\nActual French sentence:')\n",
    "    print(' '.join([y_id_to_word[np.max(w)] for w in y[0] if w!=0]))\n",
    "\n",
    "\n",
    "final_predictions(preproc_english_sentences, preproc_french_sentences, english_tokenizer, french_tokenizer)"
   ]
  },
  {
   "cell_type": "markdown",
   "metadata": {},
   "source": [
    "## Submission\n",
    "When you're ready to submit, complete the following steps:\n",
    "1. Review the [rubric](https://review.udacity.com/#!/rubrics/1004/view) to ensure your submission meets all requirements to pass\n",
    "2. Generate an HTML version of this notebook\n",
    "\n",
    "  - Run the next cell to attempt automatic generation (this is the recommended method in Workspaces)\n",
    "  - Navigate to **FILE -> Download as -> HTML (.html)**\n",
    "  - Manually generate a copy using `nbconvert` from your shell terminal\n",
    "```\n",
    "$ pip install nbconvert\n",
    "$ python -m nbconvert machine_translation.ipynb\n",
    "```\n",
    "  \n",
    "3. Submit the project\n",
    "\n",
    "  - If you are in a Workspace, simply click the \"Submit Project\" button (bottom towards the right)\n",
    "  \n",
    "  - Otherwise, add the following files into a zip archive and submit them \n",
    "  - `helper.py`\n",
    "  - `machine_translation.ipynb`\n",
    "  - `machine_translation.html`\n",
    "    - You can export the notebook by navigating to **File -> Download as -> HTML (.html)**."
   ]
  },
  {
   "cell_type": "code",
   "execution_count": 219,
   "metadata": {},
   "outputs": [
    {
     "data": {
      "text/plain": [
       "['[NbConvertApp] Converting notebook machine_translation.ipynb to html',\n",
       " '[NbConvertApp] Writing 546383 bytes to machine_translation.html']"
      ]
     },
     "execution_count": 219,
     "metadata": {},
     "output_type": "execute_result"
    }
   ],
   "source": [
    "!!python -m nbconvert *.ipynb"
   ]
  },
  {
   "cell_type": "markdown",
   "metadata": {},
   "source": [
    "## Optional Enhancements\n",
    "\n",
    "This project focuses on learning various network architectures for machine translation, but we don't evaluate the models according to best practices by splitting the data into separate test & training sets -- so the model accuracy is overstated. Use the [`sklearn.model_selection.train_test_split()`](http://scikit-learn.org/stable/modules/generated/sklearn.model_selection.train_test_split.html) function to create separate training & test datasets, then retrain each of the models using only the training set and evaluate the prediction accuracy using the hold out test set. Does the \"best\" model change?"
   ]
  }
 ],
 "metadata": {
  "kernelspec": {
   "display_name": "Python 3",
   "language": "python",
   "name": "python3"
  },
  "language_info": {
   "codemirror_mode": {
    "name": "ipython",
    "version": 3
   },
   "file_extension": ".py",
   "mimetype": "text/x-python",
   "name": "python",
   "nbconvert_exporter": "python",
   "pygments_lexer": "ipython3",
   "version": "3.6.6"
  }
 },
 "nbformat": 4,
 "nbformat_minor": 1
}
