{
 "cells": [
  {
   "cell_type": "markdown",
   "metadata": {
    "collapsed": true,
    "deletable": true,
    "editable": true
   },
   "source": [
    "# Image Classification\n",
    "In this project, you'll classify images from the [CIFAR-10 dataset](https://www.cs.toronto.edu/~kriz/cifar.html).  The dataset consists of airplanes, dogs, cats, and other objects. You'll preprocess the images, then train a convolutional neural network on all the samples. The images need to be normalized and the labels need to be one-hot encoded.  You'll get to apply what you learned and build a convolutional, max pooling, dropout, and fully connected layers.  At the end, you'll get to see your neural network's predictions on the sample images.\n",
    "## Get the Data\n",
    "Run the following cell to download the [CIFAR-10 dataset for python](https://www.cs.toronto.edu/~kriz/cifar-10-python.tar.gz)."
   ]
  },
  {
   "cell_type": "code",
   "execution_count": 1,
   "metadata": {
    "collapsed": false,
    "deletable": true,
    "editable": true
   },
   "outputs": [
    {
     "name": "stdout",
     "output_type": "stream",
     "text": [
      "All files found!\n"
     ]
    }
   ],
   "source": [
    "\"\"\"\n",
    "DON'T MODIFY ANYTHING IN THIS CELL THAT IS BELOW THIS LINE\n",
    "\"\"\"\n",
    "from urllib.request import urlretrieve\n",
    "from os.path import isfile, isdir\n",
    "from tqdm import tqdm\n",
    "import problem_unittests as tests\n",
    "import tarfile\n",
    "\n",
    "cifar10_dataset_folder_path = 'cifar-10-batches-py'\n",
    "\n",
    "class DLProgress(tqdm):\n",
    "    last_block = 0\n",
    "\n",
    "    def hook(self, block_num=1, block_size=1, total_size=None):\n",
    "        self.total = total_size\n",
    "        self.update((block_num - self.last_block) * block_size)\n",
    "        self.last_block = block_num\n",
    "\n",
    "if not isfile('cifar-10-python.tar.gz'):\n",
    "    with DLProgress(unit='B', unit_scale=True, miniters=1, desc='CIFAR-10 Dataset') as pbar:\n",
    "        urlretrieve(\n",
    "            'https://www.cs.toronto.edu/~kriz/cifar-10-python.tar.gz',\n",
    "            'cifar-10-python.tar.gz',\n",
    "            pbar.hook)\n",
    "\n",
    "if not isdir(cifar10_dataset_folder_path):\n",
    "    with tarfile.open('cifar-10-python.tar.gz') as tar:\n",
    "        tar.extractall()\n",
    "        tar.close()\n",
    "\n",
    "\n",
    "tests.test_folder_path(cifar10_dataset_folder_path)"
   ]
  },
  {
   "cell_type": "markdown",
   "metadata": {
    "deletable": true,
    "editable": true
   },
   "source": [
    "## Explore the Data\n",
    "The dataset is broken into batches to prevent your machine from running out of memory.  The CIFAR-10 dataset consists of 5 batches, named `data_batch_1`, `data_batch_2`, etc.. Each batch contains the labels and images that are one of the following:\n",
    "* airplane\n",
    "* automobile\n",
    "* bird\n",
    "* cat\n",
    "* deer\n",
    "* dog\n",
    "* frog\n",
    "* horse\n",
    "* ship\n",
    "* truck\n",
    "\n",
    "Understanding a dataset is part of making predictions on the data.  Play around with the code cell below by changing the `batch_id` and `sample_id`. The `batch_id` is the id for a batch (1-5). The `sample_id` is the id for a image and label pair in the batch.\n",
    "\n",
    "Ask yourself \"What are all possible labels?\", \"What is the range of values for the image data?\", \"Are the labels in order or random?\".  Answers to questions like these will help you preprocess the data and end up with better predictions."
   ]
  },
  {
   "cell_type": "code",
   "execution_count": 2,
   "metadata": {
    "collapsed": false,
    "deletable": true,
    "editable": true
   },
   "outputs": [
    {
     "name": "stdout",
     "output_type": "stream",
     "text": [
      "\n",
      "Stats of batch 1:\n",
      "Samples: 10000\n",
      "Label Counts: {0: 1005, 1: 974, 2: 1032, 3: 1016, 4: 999, 5: 937, 6: 1030, 7: 1001, 8: 1025, 9: 981}\n",
      "First 20 Labels: [6, 9, 9, 4, 1, 1, 2, 7, 8, 3, 4, 7, 7, 2, 9, 9, 9, 3, 2, 6]\n",
      "\n",
      "Example of Image 5:\n",
      "Image - Min Value: 0 Max Value: 252\n",
      "Image - Shape: (32, 32, 3)\n",
      "Label - Label Id: 1 Name: automobile\n"
     ]
    },
    {
     "data": {
      "image/png": "[encoded data removed]",
      "text/plain": [
       "<matplotlib.figure.Figure at 0x7faa186865c0>"
      ]
     },
     "metadata": {
      "image/png": {
       "height": 250,
       "width": 253
      }
     },
     "output_type": "display_data"
    }
   ],
   "source": [
    "%matplotlib inline\n",
    "%config InlineBackend.figure_format = 'retina'\n",
    "cifar10_dataset_folder_path = 'cifar-10-batches-py'\n",
    "\n",
    "import helper\n",
    "import numpy as np\n",
    "\n",
    "# Explore the dataset\n",
    "batch_id = 1\n",
    "sample_id = 5\n",
    "helper.display_stats(cifar10_dataset_folder_path, batch_id, sample_id)"
   ]
  },
  {
   "cell_type": "markdown",
   "metadata": {
    "deletable": true,
    "editable": true
   },
   "source": [
    "## Implement Preprocess Functions\n",
    "### Normalize\n",
    "In the cell below, implement the `normalize` function to take in image data, `x`, and return it as a normalized Numpy array. The values should be in the range of 0 to 1, inclusive.  The return object should be the same shape as `x`."
   ]
  },
  {
   "cell_type": "code",
   "execution_count": 3,
   "metadata": {
    "collapsed": false,
    "deletable": true,
    "editable": true
   },
   "outputs": [
    {
     "name": "stdout",
     "output_type": "stream",
     "text": [
      "Tests Passed\n"
     ]
    }
   ],
   "source": [
    "def normalize(x):\n",
    "    \"\"\"\n",
    "    Normalize a list of sample image data in the range of 0 to 1\n",
    "    : x: List of image data.  The image shape is (32, 32, 3)\n",
    "    : return: Numpy array of normalize data\n",
    "    \"\"\"\n",
    "    # TODO: Implement Function\n",
    "    dim_min = x.min(axis=(1,2), keepdims=True)\n",
    "    dim_max = x.max(axis=(1,2), keepdims=True)\n",
    "    normalized_array = (x - dim_min)/(dim_max - dim_min)\n",
    "    return normalized_array\n",
    "\n",
    "\n",
    "\"\"\"\n",
    "DON'T MODIFY ANYTHING IN THIS CELL THAT IS BELOW THIS LINE\n",
    "\"\"\"\n",
    "tests.test_normalize(normalize)"
   ]
  },
  {
   "cell_type": "markdown",
   "metadata": {
    "deletable": true,
    "editable": true
   },
   "source": [
    "### One-hot encode\n",
    "Just like the previous code cell, you'll be implementing a function for preprocessing.  This time, you'll implement the `one_hot_encode` function. The input, `x`, are a list of labels.  Implement the function to return the list of labels as One-Hot encoded Numpy array.  The possible values for labels are 0 to 9. The one-hot encoding function should return the same encoding for each value between each call to `one_hot_encode`.  Make sure to save the map of encodings outside the function.\n",
    "\n",
    "Hint: Don't reinvent the wheel."
   ]
  },
  {
   "cell_type": "code",
   "execution_count": 4,
   "metadata": {
    "collapsed": false,
    "deletable": true,
    "editable": true
   },
   "outputs": [
    {
     "name": "stdout",
     "output_type": "stream",
     "text": [
      "Tests Passed\n"
     ]
    }
   ],
   "source": [
    "def one_hot_encode(x):\n",
    "    \"\"\"\n",
    "    One hot encode a list of sample labels. Return a one-hot encoded vector for each label.\n",
    "    : x: List of sample Labels\n",
    "    : return: Numpy array of one-hot encoded labels\n",
    "    \"\"\"\n",
    "    # TODO: Implement Function\n",
    "    one_hot_array=[]\n",
    "    for l in x:\n",
    "        holder = np.repeat(0,10)\n",
    "        np.put(holder,l,1)\n",
    "        one_hot_array.append(holder)\n",
    "    \n",
    "    return np.array(one_hot_array)\n",
    "\n",
    "\n",
    "\"\"\"\n",
    "DON'T MODIFY ANYTHING IN THIS CELL THAT IS BELOW THIS LINE\n",
    "\"\"\"\n",
    "tests.test_one_hot_encode(one_hot_encode)"
   ]
  },
  {
   "cell_type": "markdown",
   "metadata": {
    "deletable": true,
    "editable": true
   },
   "source": [
    "### Randomize Data\n",
    "As you saw from exploring the data above, the order of the samples are randomized.  It doesn't hurt to randomize it again, but you don't need to for this dataset."
   ]
  },
  {
   "cell_type": "markdown",
   "metadata": {
    "deletable": true,
    "editable": true
   },
   "source": [
    "## Preprocess all the data and save it\n",
    "Running the code cell below will preprocess all the CIFAR-10 data and save it to file. The code below also uses 10% of the training data for validation."
   ]
  },
  {
   "cell_type": "code",
   "execution_count": 5,
   "metadata": {
    "collapsed": false,
    "deletable": true,
    "editable": true
   },
   "outputs": [],
   "source": [
    "\"\"\"\n",
    "DON'T MODIFY ANYTHING IN THIS CELL\n",
    "\"\"\"\n",
    "# Preprocess Training, Validation, and Testing Data\n",
    "helper.preprocess_and_save_data(cifar10_dataset_folder_path, normalize, one_hot_encode)"
   ]
  },
  {
   "cell_type": "markdown",
   "metadata": {
    "deletable": true,
    "editable": true
   },
   "source": [
    "# Check Point\n",
    "This is your first checkpoint.  If you ever decide to come back to this notebook or have to restart the notebook, you can start from here.  The preprocessed data has been saved to disk."
   ]
  },
  {
   "cell_type": "code",
   "execution_count": 6,
   "metadata": {
    "collapsed": true,
    "deletable": true,
    "editable": true
   },
   "outputs": [],
   "source": [
    "\"\"\"\n",
    "DON'T MODIFY ANYTHING IN THIS CELL\n",
    "\"\"\"\n",
    "import pickle\n",
    "import problem_unittests as tests\n",
    "import helper\n",
    "\n",
    "# Load the Preprocessed Validation data\n",
    "valid_features, valid_labels = pickle.load(open('preprocess_validation.p', mode='rb'))"
   ]
  },
  {
   "cell_type": "markdown",
   "metadata": {
    "deletable": true,
    "editable": true
   },
   "source": [
    "## Build the network\n",
    "For the neural network, you'll build each layer into a function.  Most of the code you've seen has been outside of functions. To test your code more thoroughly, we require that you put each layer in a function.  This allows us to give you better feedback and test for simple mistakes using our unittests before you submit your project.\n",
    "\n",
    ">**Note:** If you're finding it hard to dedicate enough time for this course each week, we've provided a small shortcut to this part of the project. In the next couple of problems, you'll have the option to use classes from the [TensorFlow Layers](https://www.tensorflow.org/api_docs/python/tf/layers) or [TensorFlow Layers (contrib)](https://www.tensorflow.org/api_guides/python/contrib.layers) packages to build each layer, except the layers you build in the \"Convolutional and Max Pooling Layer\" section.  TF Layers is similar to Keras's and TFLearn's abstraction to layers, so it's easy to pickup.\n",
    "\n",
    ">However, if you would like to get the most out of this course, try to solve all the problems _without_ using anything from the TF Layers packages. You **can** still use classes from other packages that happen to have the same name as ones you find in TF Layers! For example, instead of using the TF Layers version of the `conv2d` class, [tf.layers.conv2d](https://www.tensorflow.org/api_docs/python/tf/layers/conv2d), you would want to use the TF Neural Network version of `conv2d`, [tf.nn.conv2d](https://www.tensorflow.org/api_docs/python/tf/nn/conv2d). \n",
    "\n",
    "Let's begin!\n",
    "\n",
    "### Input\n",
    "The neural network needs to read the image data, one-hot encoded labels, and dropout keep probability. Implement the following functions\n",
    "* Implement `neural_net_image_input`\n",
    " * Return a [TF Placeholder](https://www.tensorflow.org/api_docs/python/tf/placeholder)\n",
    " * Set the shape using `image_shape` with batch size set to `None`.\n",
    " * Name the TensorFlow placeholder \"x\" using the TensorFlow `name` parameter in the [TF Placeholder](https://www.tensorflow.org/api_docs/python/tf/placeholder).\n",
    "* Implement `neural_net_label_input`\n",
    " * Return a [TF Placeholder](https://www.tensorflow.org/api_docs/python/tf/placeholder)\n",
    " * Set the shape using `n_classes` with batch size set to `None`.\n",
    " * Name the TensorFlow placeholder \"y\" using the TensorFlow `name` parameter in the [TF Placeholder](https://www.tensorflow.org/api_docs/python/tf/placeholder).\n",
    "* Implement `neural_net_keep_prob_input`\n",
    " * Return a [TF Placeholder](https://www.tensorflow.org/api_docs/python/tf/placeholder) for dropout keep probability.\n",
    " * Name the TensorFlow placeholder \"keep_prob\" using the TensorFlow `name` parameter in the [TF Placeholder](https://www.tensorflow.org/api_docs/python/tf/placeholder).\n",
    "\n",
    "These names will be used at the end of the project to load your saved model.\n",
    "\n",
    "Note: `None` for shapes in TensorFlow allow for a dynamic size."
   ]
  },
  {
   "cell_type": "code",
   "execution_count": 8,
   "metadata": {
    "collapsed": false,
    "deletable": true,
    "editable": true
   },
   "outputs": [
    {
     "name": "stdout",
     "output_type": "stream",
     "text": [
      "Image Input Tests Passed.\n",
      "Label Input Tests Passed.\n",
      "Keep Prob Tests Passed.\n"
     ]
    }
   ],
   "source": [
    "import tensorflow as tf\n",
    "\n",
    "def neural_net_image_input(image_shape):\n",
    "    \"\"\"\n",
    "    Return a Tensor for a batch of image input\n",
    "    : image_shape: Shape of the images\n",
    "    : return: Tensor for image input.\n",
    "    \"\"\"\n",
    "    # TODO: Implement Function\n",
    "    shape = list (image_shape)\n",
    "    shape.insert(0,None)    \n",
    "    inputs = tf.placeholder(tf.float32, shape ,name='x')\n",
    "    return inputs\n",
    "\n",
    "\n",
    "\n",
    "def neural_net_label_input(n_classes):\n",
    "    \"\"\"\n",
    "    Return a Tensor for a batch of label input\n",
    "    : n_classes: Number of classes\n",
    "    : return: Tensor for label input.\n",
    "    \"\"\"\n",
    "    # TODO: Implement Function\n",
    "    labels = tf.placeholder(tf.float32, [None, n_classes], name='y')\n",
    "    return labels\n",
    "\n",
    "\n",
    "def neural_net_keep_prob_input():\n",
    "    \"\"\"\n",
    "    Return a Tensor for keep probability\n",
    "    : return: Tensor for keep probability.\n",
    "    \"\"\"\n",
    "    # TODO: Implement Function\n",
    "    keep_prob = tf.placeholder(tf.float32,name = 'keep_prob')\n",
    "    return keep_prob\n",
    "\n",
    "\n",
    "\"\"\"\n",
    "DON'T MODIFY ANYTHING IN THIS CELL THAT IS BELOW THIS LINE\n",
    "\"\"\"\n",
    "tf.reset_default_graph()\n",
    "tests.test_nn_image_inputs(neural_net_image_input)\n",
    "tests.test_nn_label_inputs(neural_net_label_input)\n",
    "tests.test_nn_keep_prob_inputs(neural_net_keep_prob_input)"
   ]
  },
  {
   "cell_type": "markdown",
   "metadata": {
    "deletable": true,
    "editable": true
   },
   "source": [
    "### Convolution and Max Pooling Layer\n",
    "Convolution layers have a lot of success with images. For this code cell, you should implement the function `conv2d_maxpool` to apply convolution then max pooling:\n",
    "* Create the weight and bias using `conv_ksize`, `conv_num_outputs` and the shape of `x_tensor`.\n",
    "* Apply a convolution to `x_tensor` using weight and `conv_strides`.\n",
    " * We recommend you use same padding, but you're welcome to use any padding.\n",
    "* Add bias\n",
    "* Add a nonlinear activation to the convolution.\n",
    "* Apply Max Pooling using `pool_ksize` and `pool_strides`.\n",
    " * We recommend you use same padding, but you're welcome to use any padding.\n",
    "\n",
    "**Note:** You **can't** use [TensorFlow Layers](https://www.tensorflow.org/api_docs/python/tf/layers) or [TensorFlow Layers (contrib)](https://www.tensorflow.org/api_guides/python/contrib.layers) for **this** layer, but you can still use TensorFlow's [Neural Network](https://www.tensorflow.org/api_docs/python/tf/nn) package. You may still use the shortcut option for all the **other** layers."
   ]
  },
  {
   "cell_type": "code",
   "execution_count": 10,
   "metadata": {
    "collapsed": false,
    "deletable": true,
    "editable": true
   },
   "outputs": [
    {
     "name": "stdout",
     "output_type": "stream",
     "text": [
      "Tests Passed\n"
     ]
    }
   ],
   "source": [
    "def conv2d_maxpool(x_tensor, conv_num_outputs, conv_ksize, conv_strides, pool_ksize, pool_strides):\n",
    "    \"\"\"\n",
    "    Apply convolution then max pooling to x_tensor\n",
    "    :param x_tensor: TensorFlow Tensor\n",
    "    :param conv_num_outputs: Number of outputs for the convolutional layer\n",
    "    :param conv_ksize: kernal size 2-D Tuple for the convolutional layer\n",
    "    :param conv_strides: Stride 2-D Tuple for convolution\n",
    "    :param pool_ksize: kernal size 2-D Tuple for pool\n",
    "    :param pool_strides: Stride 2-D Tuple for pool\n",
    "    : return: A tensor that represents convolution and max pooling of x_tensor\n",
    "    \"\"\"\n",
    "    # TODO: Implement Function\n",
    "    image_depth = x_tensor.get_shape().as_list()[-1]\n",
    "    conv_depth = conv_num_outputs\n",
    "    wghts = list(conv_ksize)\n",
    "    wghts.extend([image_depth,conv_depth])\n",
    "    weights = tf.Variable(tf.random_normal(wghts,stddev=0.1))\n",
    "    bias = tf.Variable(tf.random_normal([conv_depth],stddev=0.1))\n",
    "    \n",
    "    conv_ksize = list(conv_ksize)\n",
    "    conv_ksize.insert(0,1)\n",
    "    conv_ksize.insert(len(conv_ksize),1)\n",
    "    \n",
    "    conv_strides = list(conv_strides)\n",
    "    conv_strides.insert(0,1)\n",
    "    conv_strides.insert(len(conv_strides),1)\n",
    "    \n",
    "    x = tf.nn.conv2d (input = x_tensor, filter = weights, strides = conv_strides, padding = 'SAME')\n",
    "    x = tf.nn.bias_add(x, bias)\n",
    "    conv_x = tf.nn.relu(x)\n",
    "    #print(conv_x.get_shape().as_list())   \n",
    "        \n",
    "    \n",
    "    pool_ksize = list(pool_ksize)\n",
    "    pool_ksize.insert(0,1)\n",
    "    pool_ksize.insert(len(pool_ksize),1)\n",
    "    \n",
    "    pool_strides = list(pool_strides)\n",
    "    pool_strides.insert(0,1)\n",
    "    pool_strides.insert(len(pool_strides),1)     \n",
    "       \n",
    "    conv_maxpool = tf.nn.max_pool(value = conv_x,ksize = pool_ksize, strides = pool_strides, padding = 'SAME' )\n",
    "    #print(conv_maxpool.get_shape().as_list())\n",
    "    \n",
    "    \n",
    "    return conv_maxpool \n",
    "\n",
    "\n",
    "\"\"\"\n",
    "DON'T MODIFY ANYTHING IN THIS CELL THAT IS BELOW THIS LINE\n",
    "\"\"\"\n",
    "tests.test_con_pool(conv2d_maxpool)"
   ]
  },
  {
   "cell_type": "markdown",
   "metadata": {
    "deletable": true,
    "editable": true
   },
   "source": [
    "### Flatten Layer\n",
    "Implement the `flatten` function to change the dimension of `x_tensor` from a 4-D tensor to a 2-D tensor.  The output should be the shape (*Batch Size*, *Flattened Image Size*). Shortcut option: you can use classes from the [TensorFlow Layers](https://www.tensorflow.org/api_docs/python/tf/layers) or [TensorFlow Layers (contrib)](https://www.tensorflow.org/api_guides/python/contrib.layers) packages for this layer. For more of a challenge, only use other TensorFlow packages."
   ]
  },
  {
   "cell_type": "code",
   "execution_count": 11,
   "metadata": {
    "collapsed": false,
    "deletable": true,
    "editable": true
   },
   "outputs": [
    {
     "name": "stdout",
     "output_type": "stream",
     "text": [
      "Tests Passed\n"
     ]
    }
   ],
   "source": [
    "def flatten(x_tensor):\n",
    "    \"\"\"\n",
    "    Flatten x_tensor to (Batch Size, Flattened Image Size)\n",
    "    : x_tensor: A tensor of size (Batch Size, ...), where ... are the image dimensions.\n",
    "    : return: A tensor of size (Batch Size, Flattened Image Size).\n",
    "    \"\"\"\n",
    "    # TODO: Implement Function\n",
    "    shape = x_tensor.get_shape().as_list()\n",
    "    reshape_to = np.prod(shape[1:])\n",
    "    \n",
    "    return (tf.reshape(x_tensor,[-1,reshape_to]))\n",
    "\n",
    "\n",
    "\"\"\"\n",
    "DON'T MODIFY ANYTHING IN THIS CELL THAT IS BELOW THIS LINE\n",
    "\"\"\"\n",
    "tests.test_flatten(flatten)"
   ]
  },
  {
   "cell_type": "markdown",
   "metadata": {
    "deletable": true,
    "editable": true
   },
   "source": [
    "### Fully-Connected Layer\n",
    "Implement the `fully_conn` function to apply a fully connected layer to `x_tensor` with the shape (*Batch Size*, *num_outputs*). Shortcut option: you can use classes from the [TensorFlow Layers](https://www.tensorflow.org/api_docs/python/tf/layers) or [TensorFlow Layers (contrib)](https://www.tensorflow.org/api_guides/python/contrib.layers) packages for this layer. For more of a challenge, only use other TensorFlow packages."
   ]
  },
  {
   "cell_type": "code",
   "execution_count": 12,
   "metadata": {
    "collapsed": false,
    "deletable": true,
    "editable": true
   },
   "outputs": [
    {
     "name": "stdout",
     "output_type": "stream",
     "text": [
      "Tests Passed\n"
     ]
    }
   ],
   "source": [
    "def fully_conn(x_tensor, num_outputs):\n",
    "    \"\"\"\n",
    "    Apply a fully connected layer to x_tensor using weight and bias\n",
    "    : x_tensor: A 2-D tensor where the first dimension is batch size.\n",
    "    : num_outputs: The number of output that the new tensor should be.\n",
    "    : return: A 2-D tensor where the second dimension is num_outputs.\n",
    "    \"\"\"\n",
    "    # TODO: Implement Function\n",
    "    num_nodes = x_tensor.get_shape().as_list()[1]\n",
    "    weights = tf.Variable(tf.random_normal([num_nodes, num_outputs],stddev=0.1))\n",
    "    bias = tf.Variable(tf.random_normal([num_outputs],stddev=0.1))\n",
    "    \n",
    "    fc = tf.add(tf.matmul(x_tensor,weights),bias)\n",
    "    fc = tf.nn.relu(fc)\n",
    "    \n",
    "    \n",
    "    return fc\n",
    "\n",
    "\n",
    "\"\"\"\n",
    "DON'T MODIFY ANYTHING IN THIS CELL THAT IS BELOW THIS LINE\n",
    "\"\"\"\n",
    "tests.test_fully_conn(fully_conn)"
   ]
  },
  {
   "cell_type": "markdown",
   "metadata": {
    "deletable": true,
    "editable": true
   },
   "source": [
    "### Output Layer\n",
    "Implement the `output` function to apply a fully connected layer to `x_tensor` with the shape (*Batch Size*, *num_outputs*). Shortcut option: you can use classes from the [TensorFlow Layers](https://www.tensorflow.org/api_docs/python/tf/layers) or [TensorFlow Layers (contrib)](https://www.tensorflow.org/api_guides/python/contrib.layers) packages for this layer. For more of a challenge, only use other TensorFlow packages.\n",
    "\n",
    "**Note:** Activation, softmax, or cross entropy should **not** be applied to this."
   ]
  },
  {
   "cell_type": "code",
   "execution_count": 13,
   "metadata": {
    "collapsed": false,
    "deletable": true,
    "editable": true
   },
   "outputs": [
    {
     "name": "stdout",
     "output_type": "stream",
     "text": [
      "Tests Passed\n"
     ]
    }
   ],
   "source": [
    "def output(x_tensor, num_outputs):\n",
    "    \"\"\"\n",
    "    Apply a output layer to x_tensor using weight and bias\n",
    "    : x_tensor: A 2-D tensor where the first dimension is batch size.\n",
    "    : num_outputs: The number of output that the new tensor should be.\n",
    "    : return: A 2-D tensor where the second dimension is num_outputs.\n",
    "    \"\"\"\n",
    "    # TODO: Implement Function\n",
    "    num_nodes = x_tensor.get_shape().as_list()[1]\n",
    "    weights = tf.Variable(tf.random_normal([num_nodes, num_outputs],stddev=0.1))\n",
    "    bias = tf.Variable(tf.random_normal([num_outputs],stddev=0.1))\n",
    "    \n",
    "    logits = tf.add(tf.matmul(x_tensor,weights),bias)\n",
    "    \n",
    "    return logits\n",
    "\n",
    "\n",
    "\"\"\"\n",
    "DON'T MODIFY ANYTHING IN THIS CELL THAT IS BELOW THIS LINE\n",
    "\"\"\"\n",
    "tests.test_output(output)"
   ]
  },
  {
   "cell_type": "markdown",
   "metadata": {
    "deletable": true,
    "editable": true
   },
   "source": [
    "### Create Convolutional Model\n",
    "Implement the function `conv_net` to create a convolutional neural network model. The function takes in a batch of images, `x`, and outputs logits.  Use the layers you created above to create this model:\n",
    "\n",
    "* Apply 1, 2, or 3 Convolution and Max Pool layers\n",
    "* Apply a Flatten Layer\n",
    "* Apply 1, 2, or 3 Fully Connected Layers\n",
    "* Apply an Output Layer\n",
    "* Return the output\n",
    "* Apply [TensorFlow's Dropout](https://www.tensorflow.org/api_docs/python/tf/nn/dropout) to one or more layers in the model using `keep_prob`. "
   ]
  },
  {
   "cell_type": "code",
   "execution_count": 14,
   "metadata": {
    "collapsed": false,
    "deletable": true,
    "editable": true
   },
   "outputs": [
    {
     "name": "stdout",
     "output_type": "stream",
     "text": [
      "Neural Network Built!\n"
     ]
    }
   ],
   "source": [
    "def conv_net(x, keep_prob):\n",
    "    \"\"\"\n",
    "    Create a convolutional neural network model\n",
    "    : x: Placeholder tensor that holds image data.\n",
    "    : keep_prob: Placeholder tensor that hold dropout keep probability.\n",
    "    : return: Tensor that represents logits\n",
    "    \"\"\"\n",
    "    # TODO: Apply 1, 2, or 3 Convolution and Max Pool layers\n",
    "    #    Play around with different number of outputs, kernel size and stride\n",
    "    # Function Definition from Above:\n",
    "    #    conv2d_maxpool(x_tensor, conv_num_outputs, conv_ksize, conv_strides, pool_ksize, pool_strides)\n",
    "    \n",
    "    #Set Parameters\n",
    "    x_tensor = x\n",
    "    conv_ksize = (2,2)\n",
    "    conv_strides = (1,1)\n",
    "    pool_ksize = (2,2)\n",
    "    pool_strides = (2,2)   \n",
    "        \n",
    "    #Apply 2 Convolution Max pool layers\n",
    "    conv_num_outputs = 32\n",
    "    conv_maxpool = conv2d_maxpool(x_tensor, conv_num_outputs, conv_ksize, conv_strides, pool_ksize, pool_strides)\n",
    "            \n",
    "    #increase the number of outputs on the second convolution\n",
    "    conv_num_outputs = 96        \n",
    "    conv_maxpool2 = conv2d_maxpool(conv_maxpool, conv_num_outputs, conv_ksize, conv_strides, pool_ksize, pool_strides)\n",
    "    \n",
    "    conv_num_outputs = 192        \n",
    "    conv_maxpool3 = conv2d_maxpool(conv_maxpool2, conv_num_outputs, conv_ksize, conv_strides, pool_ksize, pool_strides)\n",
    "    \n",
    "    # flatten(x_tensor)\n",
    "    flat = flatten(conv_maxpool3)\n",
    "    #print(flat.get_shape().as_list())\n",
    "    \n",
    "\n",
    "    #Apply Fully Connected Layers layers\n",
    "    num_outputs = 128\n",
    "    fc =fully_conn(flat, num_outputs)\n",
    "    fc =tf.nn.dropout(fc, keep_prob)\n",
    "    \n",
    "    num_outputs = 256\n",
    "    fc1 =fully_conn(fc, num_outputs)\n",
    "    fc1=tf.nn.dropout(fc1, keep_prob)\n",
    "    \n",
    "    num_outputs = 512\n",
    "    fc2 =fully_conn(fc1, num_outputs)\n",
    "    fc2 =tf.nn.dropout(fc2, keep_prob)\n",
    "    \n",
    "            \n",
    "    #Apply Output Layer    \n",
    "    num_classes = 10\n",
    "    logits = output(fc2, num_classes)\n",
    "    #print(logits.get_shape().as_list())\n",
    "    \n",
    "    # TODO: return output\n",
    "    return logits\n",
    "\n",
    "    \n",
    "\n",
    "\n",
    "\"\"\"\n",
    "DON'T MODIFY ANYTHING IN THIS CELL THAT IS BELOW THIS LINE\n",
    "\"\"\"\n",
    "\n",
    "##############################\n",
    "## Build the Neural Network ##\n",
    "##############################\n",
    "\n",
    "# Remove previous weights, bias, inputs, etc..\n",
    "tf.reset_default_graph()\n",
    "\n",
    "# Inputs\n",
    "x = neural_net_image_input((32, 32, 3))\n",
    "y = neural_net_label_input(10)\n",
    "keep_prob = neural_net_keep_prob_input()\n",
    "\n",
    "# Model\n",
    "logits = conv_net(x, keep_prob)\n",
    "\n",
    "# Name logits Tensor, so that is can be loaded from disk after training\n",
    "logits = tf.identity(logits, name='logits')\n",
    "\n",
    "# Loss and Optimizer\n",
    "cost = tf.reduce_mean(tf.nn.softmax_cross_entropy_with_logits(logits=logits, labels=y))\n",
    "optimizer = tf.train.AdamOptimizer().minimize(cost)\n",
    "\n",
    "# Accuracy\n",
    "correct_pred = tf.equal(tf.argmax(logits, 1), tf.argmax(y, 1))\n",
    "accuracy = tf.reduce_mean(tf.cast(correct_pred, tf.float32), name='accuracy')\n",
    "\n",
    "tests.test_conv_net(conv_net)"
   ]
  },
  {
   "cell_type": "markdown",
   "metadata": {
    "deletable": true,
    "editable": true
   },
   "source": [
    "## Train the Neural Network\n",
    "### Single Optimization\n",
    "Implement the function `train_neural_network` to do a single optimization.  The optimization should use `optimizer` to optimize in `session` with a `feed_dict` of the following:\n",
    "* `x` for image input\n",
    "* `y` for labels\n",
    "* `keep_prob` for keep probability for dropout\n",
    "\n",
    "This function will be called for each batch, so `tf.global_variables_initializer()` has already been called.\n",
    "\n",
    "Note: Nothing needs to be returned. This function is only optimizing the neural network."
   ]
  },
  {
   "cell_type": "code",
   "execution_count": 15,
   "metadata": {
    "collapsed": false,
    "deletable": true,
    "editable": true
   },
   "outputs": [
    {
     "name": "stdout",
     "output_type": "stream",
     "text": [
      "Tests Passed\n"
     ]
    }
   ],
   "source": [
    "def train_neural_network(session, optimizer, keep_probability, feature_batch, label_batch):\n",
    "    \"\"\"\n",
    "    Optimize the session on a batch of images and labels\n",
    "    : session: Current TensorFlow session\n",
    "    : optimizer: TensorFlow optimizer function\n",
    "    : keep_probability: keep probability\n",
    "    : feature_batch: Batch of Numpy image data\n",
    "    : label_batch: Batch of Numpy label data\n",
    "    \"\"\"\n",
    "    # TODO: Implement Function\n",
    "    session.run(optimizer, feed_dict={x: feature_batch, y: label_batch, keep_prob: keep_probability}) \n",
    "\n",
    "\n",
    "\"\"\"\n",
    "DON'T MODIFY ANYTHING IN THIS CELL THAT IS BELOW THIS LINE\n",
    "\"\"\"\n",
    "tests.test_train_nn(train_neural_network)"
   ]
  },
  {
   "cell_type": "markdown",
   "metadata": {
    "deletable": true,
    "editable": true
   },
   "source": [
    "### Show Stats\n",
    "Implement the function `print_stats` to print loss and validation accuracy.  Use the global variables `valid_features` and `valid_labels` to calculate validation accuracy.  Use a keep probability of `1.0` to calculate the loss and validation accuracy."
   ]
  },
  {
   "cell_type": "code",
   "execution_count": 16,
   "metadata": {
    "collapsed": false,
    "deletable": true,
    "editable": true
   },
   "outputs": [],
   "source": [
    "def print_stats(session, feature_batch, label_batch, cost, accuracy):\n",
    "    \"\"\"\n",
    "    Print information about loss and validation accuracy\n",
    "    : session: Current TensorFlow session\n",
    "    : feature_batch: Batch of Numpy image data\n",
    "    : label_batch: Batch of Numpy label data\n",
    "    : cost: TensorFlow cost function\n",
    "    : accuracy: TensorFlow accuracy function\n",
    "    \"\"\"\n",
    "    # TODO: Implement Function\n",
    "    loss = session.run(cost, feed_dict={x: feature_batch, y: label_batch,keep_prob: 1.0})\n",
    "    valid_accuracy = sess.run(accuracy, feed_dict={x: valid_features,y: valid_labels,keep_prob: 1.0})\n",
    "    \n",
    "       \n",
    "    print('Loss: {:.6f} Validation Accuracy: {:.6f}'.format(loss,valid_accuracy))\n"
   ]
  },
  {
   "cell_type": "markdown",
   "metadata": {
    "deletable": true,
    "editable": true
   },
   "source": [
    "### Hyperparameters\n",
    "Tune the following parameters:\n",
    "* Set `epochs` to the number of iterations until the network stops learning or start overfitting\n",
    "* Set `batch_size` to the highest number that your machine has memory for.  Most people set them to common sizes of memory:\n",
    " * 64\n",
    " * 128\n",
    " * 256\n",
    " * ...\n",
    "* Set `keep_probability` to the probability of keeping a node using dropout"
   ]
  },
  {
   "cell_type": "code",
   "execution_count": 17,
   "metadata": {
    "collapsed": false,
    "deletable": true,
    "editable": true
   },
   "outputs": [
    {
     "name": "stdout",
     "output_type": "stream",
     "text": [
      "[None, 32, 32, 3]\n",
      "[None, 10]\n"
     ]
    }
   ],
   "source": [
    "# TODO: Tune Parameters\n",
    "epochs = 30\n",
    "batch_size = 64\n",
    "keep_probability = 0.70\n",
    "\n",
    "print(x.get_shape().as_list())\n",
    "print(y.get_shape().as_list())\n",
    "\n"
   ]
  },
  {
   "cell_type": "markdown",
   "metadata": {
    "deletable": true,
    "editable": true
   },
   "source": [
    "### Train on a Single CIFAR-10 Batch\n",
    "Instead of training the neural network on all the CIFAR-10 batches of data, let's use a single batch. This should save time while you iterate on the model to get a better accuracy.  Once the final validation accuracy is 50% or greater, run the model on all the data in the next section."
   ]
  },
  {
   "cell_type": "code",
   "execution_count": 18,
   "metadata": {
    "collapsed": false,
    "deletable": true,
    "editable": true
   },
   "outputs": [
    {
     "name": "stdout",
     "output_type": "stream",
     "text": [
      "Checking the Training on a Single Batch...\n",
      "Epoch  1, CIFAR-10 Batch 1:  Loss: 2.188234 Validation Accuracy: 0.219600\n",
      "Epoch  2, CIFAR-10 Batch 1:  Loss: 2.052519 Validation Accuracy: 0.276800\n",
      "Epoch  3, CIFAR-10 Batch 1:  Loss: 1.881836 Validation Accuracy: 0.332600\n",
      "Epoch  4, CIFAR-10 Batch 1:  Loss: 1.786658 Validation Accuracy: 0.365600\n",
      "Epoch  5, CIFAR-10 Batch 1:  Loss: 1.729285 Validation Accuracy: 0.371000\n",
      "Epoch  6, CIFAR-10 Batch 1:  Loss: 1.630140 Validation Accuracy: 0.417000\n",
      "Epoch  7, CIFAR-10 Batch 1:  Loss: 1.590737 Validation Accuracy: 0.437000\n",
      "Epoch  8, CIFAR-10 Batch 1:  Loss: 1.410813 Validation Accuracy: 0.462400\n",
      "Epoch  9, CIFAR-10 Batch 1:  Loss: 1.359286 Validation Accuracy: 0.472000\n",
      "Epoch 10, CIFAR-10 Batch 1:  Loss: 1.306615 Validation Accuracy: 0.520400\n",
      "Epoch 11, CIFAR-10 Batch 1:  Loss: 1.208028 Validation Accuracy: 0.526800\n",
      "Epoch 12, CIFAR-10 Batch 1:  Loss: 1.166529 Validation Accuracy: 0.526600\n",
      "Epoch 13, CIFAR-10 Batch 1:  Loss: 1.047208 Validation Accuracy: 0.536600\n",
      "Epoch 14, CIFAR-10 Batch 1:  Loss: 0.958392 Validation Accuracy: 0.545800\n",
      "Epoch 15, CIFAR-10 Batch 1:  Loss: 0.948997 Validation Accuracy: 0.550200\n",
      "Epoch 16, CIFAR-10 Batch 1:  Loss: 0.823100 Validation Accuracy: 0.560600\n",
      "Epoch 17, CIFAR-10 Batch 1:  Loss: 0.833870 Validation Accuracy: 0.568800\n",
      "Epoch 18, CIFAR-10 Batch 1:  Loss: 0.732227 Validation Accuracy: 0.567400\n",
      "Epoch 19, CIFAR-10 Batch 1:  Loss: 0.747142 Validation Accuracy: 0.562400\n",
      "Epoch 20, CIFAR-10 Batch 1:  Loss: 0.622544 Validation Accuracy: 0.569000\n",
      "Epoch 21, CIFAR-10 Batch 1:  Loss: 0.616475 Validation Accuracy: 0.572800\n",
      "Epoch 22, CIFAR-10 Batch 1:  Loss: 0.521304 Validation Accuracy: 0.583200\n",
      "Epoch 23, CIFAR-10 Batch 1:  Loss: 0.506018 Validation Accuracy: 0.570800\n",
      "Epoch 24, CIFAR-10 Batch 1:  Loss: 0.428287 Validation Accuracy: 0.579600\n",
      "Epoch 25, CIFAR-10 Batch 1:  Loss: 0.402743 Validation Accuracy: 0.583800\n",
      "Epoch 26, CIFAR-10 Batch 1:  Loss: 0.436396 Validation Accuracy: 0.557000\n",
      "Epoch 27, CIFAR-10 Batch 1:  Loss: 0.416946 Validation Accuracy: 0.547600\n",
      "Epoch 28, CIFAR-10 Batch 1:  Loss: 0.335624 Validation Accuracy: 0.573800\n",
      "Epoch 29, CIFAR-10 Batch 1:  Loss: 0.337362 Validation Accuracy: 0.581200\n",
      "Epoch 30, CIFAR-10 Batch 1:  Loss: 0.341749 Validation Accuracy: 0.590000\n"
     ]
    }
   ],
   "source": [
    "\"\"\"\n",
    "DON'T MODIFY ANYTHING IN THIS CELL\n",
    "\"\"\"\n",
    "print('Checking the Training on a Single Batch...')\n",
    "with tf.Session() as sess:\n",
    "    # Initializing the variables\n",
    "    sess.run(tf.global_variables_initializer())\n",
    "    \n",
    "    # Training cycle\n",
    "    for epoch in range(epochs):\n",
    "        batch_i = 1\n",
    "        for batch_features, batch_labels in helper.load_preprocess_training_batch(batch_i, batch_size):\n",
    "            train_neural_network(sess, optimizer, keep_probability, batch_features, batch_labels)\n",
    "        print('Epoch {:>2}, CIFAR-10 Batch {}:  '.format(epoch + 1, batch_i), end='')\n",
    "        print_stats(sess, batch_features, batch_labels, cost, accuracy)"
   ]
  },
  {
   "cell_type": "markdown",
   "metadata": {
    "deletable": true,
    "editable": true
   },
   "source": [
    "### Fully Train the Model\n",
    "Now that you got a good accuracy with a single CIFAR-10 batch, try it with all five batches."
   ]
  },
  {
   "cell_type": "code",
   "execution_count": 19,
   "metadata": {
    "collapsed": false,
    "deletable": true,
    "editable": true
   },
   "outputs": [
    {
     "name": "stdout",
     "output_type": "stream",
     "text": [
      "Training...\n",
      "Epoch  1, CIFAR-10 Batch 1:  Loss: 2.187665 Validation Accuracy: 0.189600\n",
      "Epoch  1, CIFAR-10 Batch 2:  Loss: 1.907850 Validation Accuracy: 0.270600\n",
      "Epoch  1, CIFAR-10 Batch 3:  Loss: 1.794553 Validation Accuracy: 0.305800\n",
      "Epoch  1, CIFAR-10 Batch 4:  Loss: 1.799354 Validation Accuracy: 0.344000\n",
      "Epoch  1, CIFAR-10 Batch 5:  Loss: 1.735214 Validation Accuracy: 0.374200\n",
      "Epoch  2, CIFAR-10 Batch 1:  Loss: 1.727806 Validation Accuracy: 0.417200\n",
      "Epoch  2, CIFAR-10 Batch 2:  Loss: 1.487703 Validation Accuracy: 0.438000\n",
      "Epoch  2, CIFAR-10 Batch 3:  Loss: 1.490306 Validation Accuracy: 0.445600\n",
      "Epoch  2, CIFAR-10 Batch 4:  Loss: 1.492814 Validation Accuracy: 0.474200\n",
      "Epoch  2, CIFAR-10 Batch 5:  Loss: 1.423178 Validation Accuracy: 0.491800\n",
      "Epoch  3, CIFAR-10 Batch 1:  Loss: 1.569593 Validation Accuracy: 0.472800\n",
      "Epoch  3, CIFAR-10 Batch 2:  Loss: 1.265408 Validation Accuracy: 0.500200\n",
      "Epoch  3, CIFAR-10 Batch 3:  Loss: 1.287355 Validation Accuracy: 0.531400\n",
      "Epoch  3, CIFAR-10 Batch 4:  Loss: 1.299839 Validation Accuracy: 0.532800\n",
      "Epoch  3, CIFAR-10 Batch 5:  Loss: 1.296172 Validation Accuracy: 0.566800\n",
      "Epoch  4, CIFAR-10 Batch 1:  Loss: 1.317880 Validation Accuracy: 0.565800\n",
      "Epoch  4, CIFAR-10 Batch 2:  Loss: 1.210894 Validation Accuracy: 0.565600\n",
      "Epoch  4, CIFAR-10 Batch 3:  Loss: 1.194154 Validation Accuracy: 0.574600\n",
      "Epoch  4, CIFAR-10 Batch 4:  Loss: 1.179241 Validation Accuracy: 0.590400\n",
      "Epoch  4, CIFAR-10 Batch 5:  Loss: 1.127962 Validation Accuracy: 0.615600\n",
      "Epoch  5, CIFAR-10 Batch 1:  Loss: 1.140803 Validation Accuracy: 0.606200\n",
      "Epoch  5, CIFAR-10 Batch 2:  Loss: 1.030952 Validation Accuracy: 0.605800\n",
      "Epoch  5, CIFAR-10 Batch 3:  Loss: 0.985636 Validation Accuracy: 0.613800\n",
      "Epoch  5, CIFAR-10 Batch 4:  Loss: 1.042473 Validation Accuracy: 0.626000\n",
      "Epoch  5, CIFAR-10 Batch 5:  Loss: 1.059400 Validation Accuracy: 0.624200\n",
      "Epoch  6, CIFAR-10 Batch 1:  Loss: 1.169434 Validation Accuracy: 0.629600\n",
      "Epoch  6, CIFAR-10 Batch 2:  Loss: 1.050522 Validation Accuracy: 0.632600\n",
      "Epoch  6, CIFAR-10 Batch 3:  Loss: 0.947688 Validation Accuracy: 0.619200\n",
      "Epoch  6, CIFAR-10 Batch 4:  Loss: 0.934521 Validation Accuracy: 0.650400\n",
      "Epoch  6, CIFAR-10 Batch 5:  Loss: 0.914841 Validation Accuracy: 0.651200\n",
      "Epoch  7, CIFAR-10 Batch 1:  Loss: 1.009330 Validation Accuracy: 0.642800\n",
      "Epoch  7, CIFAR-10 Batch 2:  Loss: 0.934632 Validation Accuracy: 0.639400\n",
      "Epoch  7, CIFAR-10 Batch 3:  Loss: 0.875254 Validation Accuracy: 0.646200\n",
      "Epoch  7, CIFAR-10 Batch 4:  Loss: 0.825589 Validation Accuracy: 0.672600\n",
      "Epoch  7, CIFAR-10 Batch 5:  Loss: 0.915597 Validation Accuracy: 0.666000\n",
      "Epoch  8, CIFAR-10 Batch 1:  Loss: 0.913363 Validation Accuracy: 0.652000\n",
      "Epoch  8, CIFAR-10 Batch 2:  Loss: 0.916432 Validation Accuracy: 0.662200\n",
      "Epoch  8, CIFAR-10 Batch 3:  Loss: 0.783498 Validation Accuracy: 0.656200\n",
      "Epoch  8, CIFAR-10 Batch 4:  Loss: 0.833372 Validation Accuracy: 0.673200\n",
      "Epoch  8, CIFAR-10 Batch 5:  Loss: 0.749287 Validation Accuracy: 0.682600\n",
      "Epoch  9, CIFAR-10 Batch 1:  Loss: 0.864999 Validation Accuracy: 0.659200\n",
      "Epoch  9, CIFAR-10 Batch 2:  Loss: 0.813894 Validation Accuracy: 0.676200\n",
      "Epoch  9, CIFAR-10 Batch 3:  Loss: 0.601888 Validation Accuracy: 0.688400\n",
      "Epoch  9, CIFAR-10 Batch 4:  Loss: 0.792642 Validation Accuracy: 0.681400\n",
      "Epoch  9, CIFAR-10 Batch 5:  Loss: 0.733319 Validation Accuracy: 0.676600\n",
      "Epoch 10, CIFAR-10 Batch 1:  Loss: 0.832035 Validation Accuracy: 0.670200\n",
      "Epoch 10, CIFAR-10 Batch 2:  Loss: 0.732576 Validation Accuracy: 0.690600\n",
      "Epoch 10, CIFAR-10 Batch 3:  Loss: 0.547861 Validation Accuracy: 0.693400\n",
      "Epoch 10, CIFAR-10 Batch 4:  Loss: 0.748070 Validation Accuracy: 0.672600\n",
      "Epoch 10, CIFAR-10 Batch 5:  Loss: 0.707944 Validation Accuracy: 0.691600\n",
      "Epoch 11, CIFAR-10 Batch 1:  Loss: 0.713521 Validation Accuracy: 0.681600\n",
      "Epoch 11, CIFAR-10 Batch 2:  Loss: 0.646971 Validation Accuracy: 0.697600\n",
      "Epoch 11, CIFAR-10 Batch 3:  Loss: 0.532158 Validation Accuracy: 0.680200\n",
      "Epoch 11, CIFAR-10 Batch 4:  Loss: 0.654104 Validation Accuracy: 0.704600\n",
      "Epoch 11, CIFAR-10 Batch 5:  Loss: 0.670918 Validation Accuracy: 0.699000\n",
      "Epoch 12, CIFAR-10 Batch 1:  Loss: 0.639060 Validation Accuracy: 0.697000\n",
      "Epoch 12, CIFAR-10 Batch 2:  Loss: 0.596724 Validation Accuracy: 0.712600\n",
      "Epoch 12, CIFAR-10 Batch 3:  Loss: 0.517585 Validation Accuracy: 0.683600\n",
      "Epoch 12, CIFAR-10 Batch 4:  Loss: 0.624218 Validation Accuracy: 0.698800\n",
      "Epoch 12, CIFAR-10 Batch 5:  Loss: 0.601264 Validation Accuracy: 0.699200\n",
      "Epoch 13, CIFAR-10 Batch 1:  Loss: 0.605029 Validation Accuracy: 0.697800\n",
      "Epoch 13, CIFAR-10 Batch 2:  Loss: 0.609037 Validation Accuracy: 0.702000\n",
      "Epoch 13, CIFAR-10 Batch 3:  Loss: 0.436831 Validation Accuracy: 0.711800\n",
      "Epoch 13, CIFAR-10 Batch 4:  Loss: 0.619583 Validation Accuracy: 0.707400\n",
      "Epoch 13, CIFAR-10 Batch 5:  Loss: 0.407653 Validation Accuracy: 0.720800\n",
      "Epoch 14, CIFAR-10 Batch 1:  Loss: 0.528611 Validation Accuracy: 0.704600\n",
      "Epoch 14, CIFAR-10 Batch 2:  Loss: 0.555218 Validation Accuracy: 0.713000\n",
      "Epoch 14, CIFAR-10 Batch 3:  Loss: 0.361119 Validation Accuracy: 0.713600\n",
      "Epoch 14, CIFAR-10 Batch 4:  Loss: 0.545074 Validation Accuracy: 0.714400\n",
      "Epoch 14, CIFAR-10 Batch 5:  Loss: 0.443847 Validation Accuracy: 0.711400\n",
      "Epoch 15, CIFAR-10 Batch 1:  Loss: 0.479560 Validation Accuracy: 0.707600\n",
      "Epoch 15, CIFAR-10 Batch 2:  Loss: 0.502836 Validation Accuracy: 0.701600\n",
      "Epoch 15, CIFAR-10 Batch 3:  Loss: 0.404439 Validation Accuracy: 0.690200\n",
      "Epoch 15, CIFAR-10 Batch 4:  Loss: 0.493251 Validation Accuracy: 0.712400\n",
      "Epoch 15, CIFAR-10 Batch 5:  Loss: 0.403188 Validation Accuracy: 0.707400\n",
      "Epoch 16, CIFAR-10 Batch 1:  Loss: 0.417712 Validation Accuracy: 0.714600\n",
      "Epoch 16, CIFAR-10 Batch 2:  Loss: 0.488478 Validation Accuracy: 0.717800\n",
      "Epoch 16, CIFAR-10 Batch 3:  Loss: 0.413966 Validation Accuracy: 0.714200\n",
      "Epoch 16, CIFAR-10 Batch 4:  Loss: 0.445021 Validation Accuracy: 0.719400\n",
      "Epoch 16, CIFAR-10 Batch 5:  Loss: 0.370185 Validation Accuracy: 0.717800\n",
      "Epoch 17, CIFAR-10 Batch 1:  Loss: 0.409297 Validation Accuracy: 0.714800\n",
      "Epoch 17, CIFAR-10 Batch 2:  Loss: 0.433726 Validation Accuracy: 0.721400\n",
      "Epoch 17, CIFAR-10 Batch 3:  Loss: 0.292328 Validation Accuracy: 0.715600\n",
      "Epoch 17, CIFAR-10 Batch 4:  Loss: 0.405992 Validation Accuracy: 0.713000\n",
      "Epoch 17, CIFAR-10 Batch 5:  Loss: 0.309870 Validation Accuracy: 0.703000\n",
      "Epoch 18, CIFAR-10 Batch 1:  Loss: 0.388978 Validation Accuracy: 0.705800\n",
      "Epoch 18, CIFAR-10 Batch 2:  Loss: 0.390045 Validation Accuracy: 0.724600\n",
      "Epoch 18, CIFAR-10 Batch 3:  Loss: 0.317788 Validation Accuracy: 0.724400\n",
      "Epoch 18, CIFAR-10 Batch 4:  Loss: 0.478542 Validation Accuracy: 0.714600\n",
      "Epoch 18, CIFAR-10 Batch 5:  Loss: 0.383984 Validation Accuracy: 0.698200\n",
      "Epoch 19, CIFAR-10 Batch 1:  Loss: 0.316856 Validation Accuracy: 0.713000\n",
      "Epoch 19, CIFAR-10 Batch 2:  Loss: 0.363956 Validation Accuracy: 0.727000\n",
      "Epoch 19, CIFAR-10 Batch 3:  Loss: 0.236501 Validation Accuracy: 0.717800\n",
      "Epoch 19, CIFAR-10 Batch 4:  Loss: 0.470987 Validation Accuracy: 0.704000\n",
      "Epoch 19, CIFAR-10 Batch 5:  Loss: 0.254501 Validation Accuracy: 0.715000\n",
      "Epoch 20, CIFAR-10 Batch 1:  Loss: 0.334529 Validation Accuracy: 0.723600\n",
      "Epoch 20, CIFAR-10 Batch 2:  Loss: 0.469396 Validation Accuracy: 0.704000\n",
      "Epoch 20, CIFAR-10 Batch 3:  Loss: 0.207668 Validation Accuracy: 0.723600\n",
      "Epoch 20, CIFAR-10 Batch 4:  Loss: 0.395891 Validation Accuracy: 0.707800\n",
      "Epoch 20, CIFAR-10 Batch 5:  Loss: 0.237131 Validation Accuracy: 0.705600\n",
      "Epoch 21, CIFAR-10 Batch 1:  Loss: 0.276772 Validation Accuracy: 0.710000\n",
      "Epoch 21, CIFAR-10 Batch 2:  Loss: 0.378412 Validation Accuracy: 0.722200\n",
      "Epoch 21, CIFAR-10 Batch 3:  Loss: 0.189384 Validation Accuracy: 0.705000\n",
      "Epoch 21, CIFAR-10 Batch 4:  Loss: 0.298385 Validation Accuracy: 0.716200\n",
      "Epoch 21, CIFAR-10 Batch 5:  Loss: 0.215204 Validation Accuracy: 0.711400\n",
      "Epoch 22, CIFAR-10 Batch 1:  Loss: 0.270950 Validation Accuracy: 0.712600\n",
      "Epoch 22, CIFAR-10 Batch 2:  Loss: 0.350322 Validation Accuracy: 0.722200\n",
      "Epoch 22, CIFAR-10 Batch 3:  Loss: 0.209007 Validation Accuracy: 0.722200\n",
      "Epoch 22, CIFAR-10 Batch 4:  Loss: 0.255137 Validation Accuracy: 0.717200\n",
      "Epoch 22, CIFAR-10 Batch 5:  Loss: 0.170273 Validation Accuracy: 0.705200\n",
      "Epoch 23, CIFAR-10 Batch 1:  Loss: 0.328957 Validation Accuracy: 0.706400\n",
      "Epoch 23, CIFAR-10 Batch 2:  Loss: 0.360725 Validation Accuracy: 0.708200\n",
      "Epoch 23, CIFAR-10 Batch 3:  Loss: 0.208686 Validation Accuracy: 0.715200\n",
      "Epoch 23, CIFAR-10 Batch 4:  Loss: 0.264989 Validation Accuracy: 0.720800\n",
      "Epoch 23, CIFAR-10 Batch 5:  Loss: 0.219172 Validation Accuracy: 0.704400\n",
      "Epoch 24, CIFAR-10 Batch 1:  Loss: 0.220451 Validation Accuracy: 0.720800\n",
      "Epoch 24, CIFAR-10 Batch 2:  Loss: 0.182539 Validation Accuracy: 0.711200\n",
      "Epoch 24, CIFAR-10 Batch 3:  Loss: 0.175666 Validation Accuracy: 0.724600\n",
      "Epoch 24, CIFAR-10 Batch 4:  Loss: 0.305200 Validation Accuracy: 0.721200\n",
      "Epoch 24, CIFAR-10 Batch 5:  Loss: 0.133421 Validation Accuracy: 0.708400\n",
      "Epoch 25, CIFAR-10 Batch 1:  Loss: 0.281366 Validation Accuracy: 0.719400\n",
      "Epoch 25, CIFAR-10 Batch 2:  Loss: 0.281758 Validation Accuracy: 0.702000\n",
      "Epoch 25, CIFAR-10 Batch 3:  Loss: 0.198924 Validation Accuracy: 0.707000\n",
      "Epoch 25, CIFAR-10 Batch 4:  Loss: 0.275156 Validation Accuracy: 0.712400\n",
      "Epoch 25, CIFAR-10 Batch 5:  Loss: 0.187079 Validation Accuracy: 0.704000\n",
      "Epoch 26, CIFAR-10 Batch 1:  Loss: 0.270260 Validation Accuracy: 0.704400\n",
      "Epoch 26, CIFAR-10 Batch 2:  Loss: 0.166427 Validation Accuracy: 0.702600\n",
      "Epoch 26, CIFAR-10 Batch 3:  Loss: 0.142802 Validation Accuracy: 0.710600\n",
      "Epoch 26, CIFAR-10 Batch 4:  Loss: 0.244464 Validation Accuracy: 0.709200\n",
      "Epoch 26, CIFAR-10 Batch 5:  Loss: 0.140576 Validation Accuracy: 0.700600\n",
      "Epoch 27, CIFAR-10 Batch 1:  Loss: 0.197411 Validation Accuracy: 0.715600\n",
      "Epoch 27, CIFAR-10 Batch 2:  Loss: 0.162890 Validation Accuracy: 0.710800\n",
      "Epoch 27, CIFAR-10 Batch 3:  Loss: 0.148162 Validation Accuracy: 0.709000\n",
      "Epoch 27, CIFAR-10 Batch 4:  Loss: 0.237746 Validation Accuracy: 0.709400\n",
      "Epoch 27, CIFAR-10 Batch 5:  Loss: 0.132579 Validation Accuracy: 0.711800\n",
      "Epoch 28, CIFAR-10 Batch 1:  Loss: 0.157054 Validation Accuracy: 0.716800\n",
      "Epoch 28, CIFAR-10 Batch 2:  Loss: 0.173506 Validation Accuracy: 0.714600\n",
      "Epoch 28, CIFAR-10 Batch 3:  Loss: 0.208208 Validation Accuracy: 0.714800\n",
      "Epoch 28, CIFAR-10 Batch 4:  Loss: 0.206917 Validation Accuracy: 0.706200\n",
      "Epoch 28, CIFAR-10 Batch 5:  Loss: 0.128305 Validation Accuracy: 0.713400\n",
      "Epoch 29, CIFAR-10 Batch 1:  Loss: 0.146771 Validation Accuracy: 0.728000\n",
      "Epoch 29, CIFAR-10 Batch 2:  Loss: 0.169199 Validation Accuracy: 0.702400\n",
      "Epoch 29, CIFAR-10 Batch 3:  Loss: 0.181338 Validation Accuracy: 0.716800\n",
      "Epoch 29, CIFAR-10 Batch 4:  Loss: 0.195788 Validation Accuracy: 0.703400\n",
      "Epoch 29, CIFAR-10 Batch 5:  Loss: 0.066376 Validation Accuracy: 0.712000\n",
      "Epoch 30, CIFAR-10 Batch 1:  Loss: 0.164900 Validation Accuracy: 0.712400\n",
      "Epoch 30, CIFAR-10 Batch 2:  Loss: 0.169861 Validation Accuracy: 0.704600\n",
      "Epoch 30, CIFAR-10 Batch 3:  Loss: 0.144889 Validation Accuracy: 0.715800\n",
      "Epoch 30, CIFAR-10 Batch 4:  Loss: 0.158553 Validation Accuracy: 0.715800\n",
      "Epoch 30, CIFAR-10 Batch 5:  Loss: 0.109677 Validation Accuracy: 0.707600\n"
     ]
    }
   ],
   "source": [
    "\"\"\"\n",
    "DON'T MODIFY ANYTHING IN THIS CELL\n",
    "\"\"\"\n",
    "save_model_path = './image_classification'\n",
    "\n",
    "print('Training...')\n",
    "with tf.Session() as sess:\n",
    "    # Initializing the variables\n",
    "    sess.run(tf.global_variables_initializer())\n",
    "    \n",
    "    # Training cycle\n",
    "    for epoch in range(epochs):\n",
    "        # Loop over all batches\n",
    "        n_batches = 5\n",
    "        for batch_i in range(1, n_batches + 1):\n",
    "            for batch_features, batch_labels in helper.load_preprocess_training_batch(batch_i, batch_size):\n",
    "                train_neural_network(sess, optimizer, keep_probability, batch_features, batch_labels)\n",
    "            print('Epoch {:>2}, CIFAR-10 Batch {}:  '.format(epoch + 1, batch_i), end='')\n",
    "            print_stats(sess, batch_features, batch_labels, cost, accuracy)\n",
    "            \n",
    "    # Save Model\n",
    "    saver = tf.train.Saver()\n",
    "    save_path = saver.save(sess, save_model_path)"
   ]
  },
  {
   "cell_type": "markdown",
   "metadata": {
    "deletable": true,
    "editable": true
   },
   "source": [
    "# Checkpoint\n",
    "The model has been saved to disk.\n",
    "## Test Model\n",
    "Test your model against the test dataset.  This will be your final accuracy. You should have an accuracy greater than 50%. If you don't, keep tweaking the model architecture and parameters."
   ]
  },
  {
   "cell_type": "code",
   "execution_count": 85,
   "metadata": {
    "collapsed": false,
    "deletable": true,
    "editable": true
   },
   "outputs": [
    {
     "name": "stdout",
     "output_type": "stream",
     "text": [
      "Testing Accuracy: 0.6720740445859873\n",
      "\n"
     ]
    },
    {
     "data": {
      "image/png": "[encoded data removed]",
      "text/plain": [
       "<matplotlib.figure.Figure at 0x7f8db8fb4cc0>"
      ]
     },
     "metadata": {
      "image/png": {
       "height": 319,
       "width": 355
      }
     },
     "output_type": "display_data"
    }
   ],
   "source": [
    "\"\"\"\n",
    "DON'T MODIFY ANYTHING IN THIS CELL\n",
    "\"\"\"\n",
    "%matplotlib inline\n",
    "%config InlineBackend.figure_format = 'retina'\n",
    "\n",
    "import tensorflow as tf\n",
    "import pickle\n",
    "import helper\n",
    "import random\n",
    "\n",
    "# Set batch size if not already set\n",
    "try:\n",
    "    if batch_size:\n",
    "        pass\n",
    "except NameError:\n",
    "    batch_size = 64\n",
    "\n",
    "save_model_path = './image_classification'\n",
    "n_samples = 4\n",
    "top_n_predictions = 3\n",
    "\n",
    "def test_model():\n",
    "    \"\"\"\n",
    "    Test the saved model against the test dataset\n",
    "    \"\"\"\n",
    "\n",
    "    test_features, test_labels = pickle.load(open('preprocess_training.p', mode='rb'))\n",
    "    loaded_graph = tf.Graph()\n",
    "\n",
    "    with tf.Session(graph=loaded_graph) as sess:\n",
    "        # Load model\n",
    "        loader = tf.train.import_meta_graph(save_model_path + '.meta')\n",
    "        loader.restore(sess, save_model_path)\n",
    "\n",
    "        # Get Tensors from loaded model\n",
    "        loaded_x = loaded_graph.get_tensor_by_name('x:0')\n",
    "        loaded_y = loaded_graph.get_tensor_by_name('y:0')\n",
    "        loaded_keep_prob = loaded_graph.get_tensor_by_name('keep_prob:0')\n",
    "        loaded_logits = loaded_graph.get_tensor_by_name('logits:0')\n",
    "        loaded_acc = loaded_graph.get_tensor_by_name('accuracy:0')\n",
    "        \n",
    "        # Get accuracy in batches for memory limitations\n",
    "        test_batch_acc_total = 0\n",
    "        test_batch_count = 0\n",
    "        \n",
    "        for train_feature_batch, train_label_batch in helper.batch_features_labels(test_features, test_labels, batch_size):\n",
    "            test_batch_acc_total += sess.run(\n",
    "                loaded_acc,\n",
    "                feed_dict={loaded_x: train_feature_batch, loaded_y: train_label_batch, loaded_keep_prob: 1.0})\n",
    "            test_batch_count += 1\n",
    "\n",
    "        print('Testing Accuracy: {}\\n'.format(test_batch_acc_total/test_batch_count))\n",
    "\n",
    "        # Print Random Samples\n",
    "        random_test_features, random_test_labels = tuple(zip(*random.sample(list(zip(test_features, test_labels)), n_samples)))\n",
    "        random_test_predictions = sess.run(\n",
    "            tf.nn.top_k(tf.nn.softmax(loaded_logits), top_n_predictions),\n",
    "            feed_dict={loaded_x: random_test_features, loaded_y: random_test_labels, loaded_keep_prob: 1.0})\n",
    "        helper.display_image_predictions(random_test_features, random_test_labels, random_test_predictions)\n",
    "\n",
    "\n",
    "test_model()"
   ]
  },
  {
   "cell_type": "markdown",
   "metadata": {
    "deletable": true,
    "editable": true
   },
   "source": [
    "## Why 50-80% Accuracy?\n",
    "You might be wondering why you can't get an accuracy any higher. First things first, 50% isn't bad for a simple CNN.  Pure guessing would get you 10% accuracy. However, you might notice people are getting scores [well above 80%](http://rodrigob.github.io/are_we_there_yet/build/classification_datasets_results.html#43494641522d3130).  That's because we haven't taught you all there is to know about neural networks. We still need to cover a few more techniques.\n",
    "## Submitting This Project\n",
    "When submitting this project, make sure to run all the cells before saving the notebook.  Save the notebook file as \"dlnd_image_classification.ipynb\" and save it as a HTML file under \"File\" -> \"Download as\".  Include the \"helper.py\" and \"problem_unittests.py\" files in your submission."
   ]
  }
 ],
 "metadata": {
  "kernelspec": {
   "display_name": "Python 3",
   "language": "python",
   "name": "python3"
  },
  "language_info": {
   "codemirror_mode": {
    "name": "ipython",
    "version": 3
   },
   "file_extension": ".py",
   "mimetype": "text/x-python",
   "name": "python",
   "nbconvert_exporter": "python",
   "pygments_lexer": "ipython3",
   "version": "3.5.2"
  },
  "widgets": {
   "state": {},
   "version": "1.1.2"
  }
 },
 "nbformat": 4,
 "nbformat_minor": 0
}
